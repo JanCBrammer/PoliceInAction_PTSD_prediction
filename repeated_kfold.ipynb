{
 "cells": [
  {
   "cell_type": "markdown",
   "metadata": {},
   "source": [
    "The nested CV is implemented according to the [Raschka, 2018](https://github.com/rasbt/model-eval-article-supplementary/blob/master/code/nested_cv_code.ipynb) and the associated [paper](https://arxiv.org/abs/1811.12808).\n",
    "The [statistical test](https://gist.github.com/jensdebruijn/13e8eeda85eb8644ac2a4ac4c3b8e732) is implemented according to [Boeckhart and Frank, 2014](https://www.cs.waikato.ac.nz/~eibe/pubs/bouckaert_and_frank.pdf)."
   ]
  },
  {
   "cell_type": "code",
   "execution_count": 23,
   "metadata": {},
   "outputs": [
    {
     "name": "stdout",
     "output_type": "stream",
     "text": [
      "using sklearn version 0.21.3\n",
      "using numpy version 1.17.3\n"
     ]
    }
   ],
   "source": [
    "import numpy as np\n",
    "from sklearn.datasets import make_regression\n",
    "from sklearn.preprocessing import StandardScaler\n",
    "from sklearn.model_selection import KFold, RepeatedKFold, GridSearchCV, cross_val_score\n",
    "from sklearn.pipeline import Pipeline\n",
    "from sklearn.linear_model import ElasticNet\n",
    "from sklearn.svm import LinearSVR\n",
    "from sklearn.dummy import DummyRegressor\n",
    "\n",
    "import sklearn\n",
    "print(f\"using sklearn version {sklearn.__version__}\")\n",
    "print(f\"using numpy version {np.__version__}\")"
   ]
  },
  {
   "cell_type": "code",
   "execution_count": 24,
   "metadata": {},
   "outputs": [],
   "source": [
    "# generate dataset\n",
    "n_samples = 100\n",
    "n_features = 10\n",
    "X, y = make_regression(n_samples=n_samples,\n",
    "                       n_features=n_features,\n",
    "                       n_informative=1,\n",
    "                       random_state=42)\n",
    "\n",
    "# empirically find out what the minimal amount of seeds is that still result in reproducible results;\n",
    "# do not seed classifiers during initialization because element of randomness across repetitions is desired\n",
    "\n",
    "# make sure to use as much training data is possible for parameter optimization in the inner CV:\n",
    "# increase number of folds\n",
    "\n",
    "elasticnet = ElasticNet(random_state=42)\n",
    "linearsvr = LinearSVR(random_state=42)\n",
    "dummyregr = DummyRegressor()\n",
    "\n",
    "# set up pipelines\n",
    "pipe_elasticnet = Pipeline([(\"std\", StandardScaler()),\n",
    "                           (\"elasticnet\", elasticnet)])\n",
    "pipe_linearsvr = Pipeline([(\"std\", StandardScaler()),\n",
    "                           (\"linearsvr\", linearsvr)])\n",
    "pipe_dummyregr = Pipeline([(\"std\", StandardScaler()),\n",
    "                           (\"dummyregr\", dummyregr)])\n",
    "\n",
    "# set up parameter grids for optimization (double underscore preceding parameter is important)\n",
    "# make sure that alpha is > 0.01 (see scikit documentation)\n",
    "grid_elasticnet = [{\"elasticnet__alpha\": np.power(2., np.arange(-2, 4)),\n",
    "                    \"elasticnet__l1_ratio\": [0, 0.5, 1]}]\n",
    "grid_linearsvr = [{\"linearsvr__C\": np.power(10., np.arange(-4, 4))}]\n",
    "grid_dummyregr = [{\"dummyregr__strategy\": [\"mean\", \"median\"]}]\n",
    "\n",
    "# set up inner cv of nested cv for parameter tuning\n",
    "gridcvs = {}\n",
    "kfolds_inner = 2\n",
    "inner_nestedcv = KFold(n_splits=kfolds_inner, shuffle=True, random_state=42)\n",
    "\n",
    "for pgrid, est, name in zip((grid_elasticnet, grid_linearsvr, grid_dummyregr),\n",
    "                            (pipe_elasticnet, pipe_linearsvr, pipe_dummyregr),\n",
    "                            (\"ElasticNet\", \"LinearSVR\", \"Dummy\")):\n",
    "    # refit=True, once optimization is done, refit the entire dataset\n",
    "    gcv = GridSearchCV(estimator=est,\n",
    "                       param_grid=pgrid,\n",
    "                       scoring=\"neg_mean_squared_error\",\n",
    "                       n_jobs=1,\n",
    "                       cv=inner_nestedcv,\n",
    "                       verbose=1,\n",
    "                       refit=True)\n",
    "    gridcvs[name] = gcv"
   ]
  },
  {
   "cell_type": "code",
   "execution_count": 25,
   "metadata": {},
   "outputs": [
    {
     "name": "stdout",
     "output_type": "stream",
     "text": [
      "optimizing and evaluating ElasticNet\n",
      "starting repetition 1 with seed 0\n",
      "Fitting 2 folds for each of 18 candidates, totalling 36 fits\n"
     ]
    },
    {
     "name": "stderr",
     "output_type": "stream",
     "text": [
      "[Parallel(n_jobs=1)]: Using backend SequentialBackend with 1 concurrent workers.\n",
      "C:\\Users\\JohnDoe\\Anaconda3\\lib\\site-packages\\sklearn\\linear_model\\coordinate_descent.py:475: ConvergenceWarning: Objective did not converge. You might want to increase the number of iterations. Duality gap: 807.0260114436132, tolerance: 0.8249816747434566\n",
      "  positive)\n",
      "C:\\Users\\JohnDoe\\Anaconda3\\lib\\site-packages\\sklearn\\linear_model\\coordinate_descent.py:475: ConvergenceWarning: Objective did not converge. You might want to increase the number of iterations. Duality gap: 1020.1333388363469, tolerance: 1.0868531303417894\n",
      "  positive)\n",
      "C:\\Users\\JohnDoe\\Anaconda3\\lib\\site-packages\\sklearn\\linear_model\\coordinate_descent.py:475: ConvergenceWarning: Objective did not converge. You might want to increase the number of iterations. Duality gap: 1335.3834588079358, tolerance: 0.8249816747434566\n",
      "  positive)\n",
      "C:\\Users\\JohnDoe\\Anaconda3\\lib\\site-packages\\sklearn\\linear_model\\coordinate_descent.py:475: ConvergenceWarning: Objective did not converge. You might want to increase the number of iterations. Duality gap: 1667.8520046446506, tolerance: 1.0868531303417894\n",
      "  positive)\n",
      "C:\\Users\\JohnDoe\\Anaconda3\\lib\\site-packages\\sklearn\\linear_model\\coordinate_descent.py:475: ConvergenceWarning: Objective did not converge. You might want to increase the number of iterations. Duality gap: 1998.6534328526964, tolerance: 0.8249816747434566\n",
      "  positive)\n",
      "C:\\Users\\JohnDoe\\Anaconda3\\lib\\site-packages\\sklearn\\linear_model\\coordinate_descent.py:475: ConvergenceWarning: Objective did not converge. You might want to increase the number of iterations. Duality gap: 2488.273630491347, tolerance: 1.0868531303417894\n",
      "  positive)\n",
      "C:\\Users\\JohnDoe\\Anaconda3\\lib\\site-packages\\sklearn\\linear_model\\coordinate_descent.py:475: ConvergenceWarning: Objective did not converge. You might want to increase the number of iterations. Duality gap: 2676.706684879008, tolerance: 0.8249816747434566\n",
      "  positive)\n",
      "C:\\Users\\JohnDoe\\Anaconda3\\lib\\site-packages\\sklearn\\linear_model\\coordinate_descent.py:475: ConvergenceWarning: Objective did not converge. You might want to increase the number of iterations. Duality gap: 3358.349408574304, tolerance: 1.0868531303417894\n",
      "  positive)\n",
      "C:\\Users\\JohnDoe\\Anaconda3\\lib\\site-packages\\sklearn\\linear_model\\coordinate_descent.py:475: ConvergenceWarning: Objective did not converge. You might want to increase the number of iterations. Duality gap: 3237.7006003061347, tolerance: 0.8249816747434566\n",
      "  positive)\n",
      "C:\\Users\\JohnDoe\\Anaconda3\\lib\\site-packages\\sklearn\\linear_model\\coordinate_descent.py:475: ConvergenceWarning: Objective did not converge. You might want to increase the number of iterations. Duality gap: 4118.7340989220975, tolerance: 1.0868531303417894\n",
      "  positive)\n",
      "C:\\Users\\JohnDoe\\Anaconda3\\lib\\site-packages\\sklearn\\linear_model\\coordinate_descent.py:475: ConvergenceWarning: Objective did not converge. You might want to increase the number of iterations. Duality gap: 3624.2002503222243, tolerance: 0.8249816747434566\n",
      "  positive)\n",
      "C:\\Users\\JohnDoe\\Anaconda3\\lib\\site-packages\\sklearn\\linear_model\\coordinate_descent.py:475: ConvergenceWarning: Objective did not converge. You might want to increase the number of iterations. Duality gap: 4671.937146687416, tolerance: 1.0868531303417894\n",
      "  positive)\n",
      "[Parallel(n_jobs=1)]: Done  36 out of  36 | elapsed:    0.3s finished\n"
     ]
    },
    {
     "name": "stdout",
     "output_type": "stream",
     "text": [
      "Fitting 2 folds for each of 18 candidates, totalling 36 fits\n"
     ]
    },
    {
     "name": "stderr",
     "output_type": "stream",
     "text": [
      "[Parallel(n_jobs=1)]: Using backend SequentialBackend with 1 concurrent workers.\n",
      "C:\\Users\\JohnDoe\\Anaconda3\\lib\\site-packages\\sklearn\\linear_model\\coordinate_descent.py:475: ConvergenceWarning: Objective did not converge. You might want to increase the number of iterations. Duality gap: 685.7086574279542, tolerance: 0.6981663703696497\n",
      "  positive)\n",
      "C:\\Users\\JohnDoe\\Anaconda3\\lib\\site-packages\\sklearn\\linear_model\\coordinate_descent.py:475: ConvergenceWarning: Objective did not converge. You might want to increase the number of iterations. Duality gap: 959.8742064791675, tolerance: 0.9838150779993343\n",
      "  positive)\n",
      "C:\\Users\\JohnDoe\\Anaconda3\\lib\\site-packages\\sklearn\\linear_model\\coordinate_descent.py:475: ConvergenceWarning: Objective did not converge. You might want to increase the number of iterations. Duality gap: 1136.6306562857017, tolerance: 0.6981663703696497\n",
      "  positive)\n",
      "C:\\Users\\JohnDoe\\Anaconda3\\lib\\site-packages\\sklearn\\linear_model\\coordinate_descent.py:475: ConvergenceWarning: Objective did not converge. You might want to increase the number of iterations. Duality gap: 1587.210749192526, tolerance: 0.9838150779993343\n",
      "  positive)\n",
      "C:\\Users\\JohnDoe\\Anaconda3\\lib\\site-packages\\sklearn\\linear_model\\coordinate_descent.py:475: ConvergenceWarning: Objective did not converge. You might want to increase the number of iterations. Duality gap: 1702.2621750386065, tolerance: 0.6981663703696497\n",
      "  positive)\n",
      "C:\\Users\\JohnDoe\\Anaconda3\\lib\\site-packages\\sklearn\\linear_model\\coordinate_descent.py:475: ConvergenceWarning: Objective did not converge. You might want to increase the number of iterations. Duality gap: 2375.5700436731177, tolerance: 0.9838150779993343\n",
      "  positive)\n",
      "C:\\Users\\JohnDoe\\Anaconda3\\lib\\site-packages\\sklearn\\linear_model\\coordinate_descent.py:475: ConvergenceWarning: Objective did not converge. You might want to increase the number of iterations. Duality gap: 2277.59690249021, tolerance: 0.6981663703696497\n",
      "  positive)\n",
      "C:\\Users\\JohnDoe\\Anaconda3\\lib\\site-packages\\sklearn\\linear_model\\coordinate_descent.py:475: ConvergenceWarning: Objective did not converge. You might want to increase the number of iterations. Duality gap: 3183.769575434796, tolerance: 0.9838150779993343\n",
      "  positive)\n",
      "C:\\Users\\JohnDoe\\Anaconda3\\lib\\site-packages\\sklearn\\linear_model\\coordinate_descent.py:475: ConvergenceWarning: Objective did not converge. You might want to increase the number of iterations. Duality gap: 2750.237193867274, tolerance: 0.6981663703696497\n",
      "  positive)\n",
      "C:\\Users\\JohnDoe\\Anaconda3\\lib\\site-packages\\sklearn\\linear_model\\coordinate_descent.py:475: ConvergenceWarning: Objective did not converge. You might want to increase the number of iterations. Duality gap: 3854.60403191457, tolerance: 0.9838150779993343\n",
      "  positive)\n",
      "C:\\Users\\JohnDoe\\Anaconda3\\lib\\site-packages\\sklearn\\linear_model\\coordinate_descent.py:475: ConvergenceWarning: Objective did not converge. You might want to increase the number of iterations. Duality gap: 3073.8851750702515, tolerance: 0.6981663703696497\n",
      "  positive)\n",
      "C:\\Users\\JohnDoe\\Anaconda3\\lib\\site-packages\\sklearn\\linear_model\\coordinate_descent.py:475: ConvergenceWarning: Objective did not converge. You might want to increase the number of iterations. Duality gap: 4317.872349248127, tolerance: 0.9838150779993343\n",
      "  positive)\n",
      "[Parallel(n_jobs=1)]: Done  36 out of  36 | elapsed:    0.3s finished\n",
      "[Parallel(n_jobs=1)]: Using backend SequentialBackend with 1 concurrent workers.\n",
      "C:\\Users\\JohnDoe\\Anaconda3\\lib\\site-packages\\sklearn\\linear_model\\coordinate_descent.py:475: ConvergenceWarning: Objective did not converge. You might want to increase the number of iterations. Duality gap: 685.8846778668942, tolerance: 0.699132554784158\n",
      "  positive)\n",
      "C:\\Users\\JohnDoe\\Anaconda3\\lib\\site-packages\\sklearn\\linear_model\\coordinate_descent.py:475: ConvergenceWarning: Objective did not converge. You might want to increase the number of iterations. Duality gap: 965.9994700644099, tolerance: 1.0061153829130212\n",
      "  positive)\n",
      "C:\\Users\\JohnDoe\\Anaconda3\\lib\\site-packages\\sklearn\\linear_model\\coordinate_descent.py:475: ConvergenceWarning: Objective did not converge. You might want to increase the number of iterations. Duality gap: 1136.230119076382, tolerance: 0.699132554784158\n",
      "  positive)\n",
      "C:\\Users\\JohnDoe\\Anaconda3\\lib\\site-packages\\sklearn\\linear_model\\coordinate_descent.py:475: ConvergenceWarning: Objective did not converge. You might want to increase the number of iterations. Duality gap: 1588.8693101854908, tolerance: 1.0061153829130212\n",
      "  positive)\n",
      "C:\\Users\\JohnDoe\\Anaconda3\\lib\\site-packages\\sklearn\\linear_model\\coordinate_descent.py:475: ConvergenceWarning: Objective did not converge. You might want to increase the number of iterations. Duality gap: 1701.403032390462, tolerance: 0.699132554784158\n",
      "  positive)\n"
     ]
    },
    {
     "name": "stdout",
     "output_type": "stream",
     "text": [
      "Fitting 2 folds for each of 18 candidates, totalling 36 fits\n"
     ]
    },
    {
     "name": "stderr",
     "output_type": "stream",
     "text": [
      "C:\\Users\\JohnDoe\\Anaconda3\\lib\\site-packages\\sklearn\\linear_model\\coordinate_descent.py:475: ConvergenceWarning: Objective did not converge. You might want to increase the number of iterations. Duality gap: 2372.211430594717, tolerance: 1.0061153829130212\n",
      "  positive)\n",
      "C:\\Users\\JohnDoe\\Anaconda3\\lib\\site-packages\\sklearn\\linear_model\\coordinate_descent.py:475: ConvergenceWarning: Objective did not converge. You might want to increase the number of iterations. Duality gap: 2277.3576975905644, tolerance: 0.699132554784158\n",
      "  positive)\n",
      "C:\\Users\\JohnDoe\\Anaconda3\\lib\\site-packages\\sklearn\\linear_model\\coordinate_descent.py:475: ConvergenceWarning: Objective did not converge. You might want to increase the number of iterations. Duality gap: 3186.1943263375138, tolerance: 1.0061153829130212\n",
      "  positive)\n",
      "C:\\Users\\JohnDoe\\Anaconda3\\lib\\site-packages\\sklearn\\linear_model\\coordinate_descent.py:475: ConvergenceWarning: Objective did not converge. You might want to increase the number of iterations. Duality gap: 2751.5057879569385, tolerance: 0.699132554784158\n",
      "  positive)\n",
      "C:\\Users\\JohnDoe\\Anaconda3\\lib\\site-packages\\sklearn\\linear_model\\coordinate_descent.py:475: ConvergenceWarning: Objective did not converge. You might want to increase the number of iterations. Duality gap: 3878.9262991167334, tolerance: 1.0061153829130212\n",
      "  positive)\n",
      "C:\\Users\\JohnDoe\\Anaconda3\\lib\\site-packages\\sklearn\\linear_model\\coordinate_descent.py:475: ConvergenceWarning: Objective did not converge. You might want to increase the number of iterations. Duality gap: 3076.6094147621498, tolerance: 0.699132554784158\n",
      "  positive)\n",
      "C:\\Users\\JohnDoe\\Anaconda3\\lib\\site-packages\\sklearn\\linear_model\\coordinate_descent.py:475: ConvergenceWarning: Objective did not converge. You might want to increase the number of iterations. Duality gap: 4370.726003610149, tolerance: 1.0061153829130212\n",
      "  positive)\n",
      "[Parallel(n_jobs=1)]: Done  36 out of  36 | elapsed:    0.3s finished\n",
      "[Parallel(n_jobs=1)]: Using backend SequentialBackend with 1 concurrent workers.\n",
      "C:\\Users\\JohnDoe\\Anaconda3\\lib\\site-packages\\sklearn\\linear_model\\coordinate_descent.py:475: ConvergenceWarning: Objective did not converge. You might want to increase the number of iterations. Duality gap: 737.6375834925079, tolerance: 0.7628125658312221\n",
      "  positive)\n",
      "C:\\Users\\JohnDoe\\Anaconda3\\lib\\site-packages\\sklearn\\linear_model\\coordinate_descent.py:475: ConvergenceWarning: Objective did not converge. You might want to increase the number of iterations. Duality gap: 774.1843742168992, tolerance: 0.818033104742868\n",
      "  positive)\n",
      "C:\\Users\\JohnDoe\\Anaconda3\\lib\\site-packages\\sklearn\\linear_model\\coordinate_descent.py:475: ConvergenceWarning: Objective did not converge. You might want to increase the number of iterations. Duality gap: 1216.6014740225846, tolerance: 0.7628125658312221\n",
      "  positive)\n",
      "C:\\Users\\JohnDoe\\Anaconda3\\lib\\site-packages\\sklearn\\linear_model\\coordinate_descent.py:475: ConvergenceWarning: Objective did not converge. You might want to increase the number of iterations. Duality gap: 1270.4184253477388, tolerance: 0.818033104742868\n",
      "  positive)\n",
      "C:\\Users\\JohnDoe\\Anaconda3\\lib\\site-packages\\sklearn\\linear_model\\coordinate_descent.py:475: ConvergenceWarning: Objective did not converge. You might want to increase the number of iterations. Duality gap: 1819.4484540248513, tolerance: 0.7628125658312221\n",
      "  positive)\n"
     ]
    },
    {
     "name": "stdout",
     "output_type": "stream",
     "text": [
      "Fitting 2 folds for each of 18 candidates, totalling 36 fits\n"
     ]
    },
    {
     "name": "stderr",
     "output_type": "stream",
     "text": [
      "C:\\Users\\JohnDoe\\Anaconda3\\lib\\site-packages\\sklearn\\linear_model\\coordinate_descent.py:475: ConvergenceWarning: Objective did not converge. You might want to increase the number of iterations. Duality gap: 1898.7839711487416, tolerance: 0.818033104742868\n",
      "  positive)\n",
      "C:\\Users\\JohnDoe\\Anaconda3\\lib\\site-packages\\sklearn\\linear_model\\coordinate_descent.py:475: ConvergenceWarning: Objective did not converge. You might want to increase the number of iterations. Duality gap: 2442.173291048589, tolerance: 0.7628125658312221\n",
      "  positive)\n",
      "C:\\Users\\JohnDoe\\Anaconda3\\lib\\site-packages\\sklearn\\linear_model\\coordinate_descent.py:475: ConvergenceWarning: Objective did not converge. You might want to increase the number of iterations. Duality gap: 2559.4991994852953, tolerance: 0.818033104742868\n",
      "  positive)\n",
      "C:\\Users\\JohnDoe\\Anaconda3\\lib\\site-packages\\sklearn\\linear_model\\coordinate_descent.py:475: ConvergenceWarning: Objective did not converge. You might want to increase the number of iterations. Duality gap: 2965.4554004178176, tolerance: 0.7628125658312221\n",
      "  positive)\n",
      "C:\\Users\\JohnDoe\\Anaconda3\\lib\\site-packages\\sklearn\\linear_model\\coordinate_descent.py:475: ConvergenceWarning: Objective did not converge. You might want to increase the number of iterations. Duality gap: 3128.702089569584, tolerance: 0.818033104742868\n",
      "  positive)\n",
      "C:\\Users\\JohnDoe\\Anaconda3\\lib\\site-packages\\sklearn\\linear_model\\coordinate_descent.py:475: ConvergenceWarning: Objective did not converge. You might want to increase the number of iterations. Duality gap: 3331.5643042970996, tolerance: 0.7628125658312221\n",
      "  positive)\n",
      "C:\\Users\\JohnDoe\\Anaconda3\\lib\\site-packages\\sklearn\\linear_model\\coordinate_descent.py:475: ConvergenceWarning: Objective did not converge. You might want to increase the number of iterations. Duality gap: 3536.839150853103, tolerance: 0.818033104742868\n",
      "  positive)\n",
      "[Parallel(n_jobs=1)]: Done  36 out of  36 | elapsed:    0.2s finished\n",
      "[Parallel(n_jobs=1)]: Using backend SequentialBackend with 1 concurrent workers.\n",
      "C:\\Users\\JohnDoe\\Anaconda3\\lib\\site-packages\\sklearn\\linear_model\\coordinate_descent.py:475: ConvergenceWarning: Objective did not converge. You might want to increase the number of iterations. Duality gap: 575.1109072363024, tolerance: 0.5889183400927543\n",
      "  positive)\n",
      "C:\\Users\\JohnDoe\\Anaconda3\\lib\\site-packages\\sklearn\\linear_model\\coordinate_descent.py:475: ConvergenceWarning: Objective did not converge. You might want to increase the number of iterations. Duality gap: 1205.1132575599731, tolerance: 1.2353013123057688\n",
      "  positive)\n",
      "C:\\Users\\JohnDoe\\Anaconda3\\lib\\site-packages\\sklearn\\linear_model\\coordinate_descent.py:475: ConvergenceWarning: Objective did not converge. You might want to increase the number of iterations. Duality gap: 950.6033035458171, tolerance: 0.5889183400927543\n",
      "  positive)\n",
      "C:\\Users\\JohnDoe\\Anaconda3\\lib\\site-packages\\sklearn\\linear_model\\coordinate_descent.py:475: ConvergenceWarning: Objective did not converge. You might want to increase the number of iterations. Duality gap: 1990.4936263275574, tolerance: 1.2353013123057688\n",
      "  positive)\n",
      "C:\\Users\\JohnDoe\\Anaconda3\\lib\\site-packages\\sklearn\\linear_model\\coordinate_descent.py:475: ConvergenceWarning: Objective did not converge. You might want to increase the number of iterations. Duality gap: 1421.6698831413573, tolerance: 0.5889183400927543\n",
      "  positive)\n",
      "C:\\Users\\JohnDoe\\Anaconda3\\lib\\site-packages\\sklearn\\linear_model\\coordinate_descent.py:475: ConvergenceWarning: Objective did not converge. You might want to increase the number of iterations. Duality gap: 2974.2780538137663, tolerance: 1.2353013123057688\n",
      "  positive)\n",
      "C:\\Users\\JohnDoe\\Anaconda3\\lib\\site-packages\\sklearn\\linear_model\\coordinate_descent.py:475: ConvergenceWarning: Objective did not converge. You might want to increase the number of iterations. Duality gap: 1904.2296286836183, tolerance: 0.5889183400927543\n",
      "  positive)\n"
     ]
    },
    {
     "name": "stdout",
     "output_type": "stream",
     "text": [
      "Fitting 2 folds for each of 18 candidates, totalling 36 fits\n"
     ]
    },
    {
     "name": "stderr",
     "output_type": "stream",
     "text": [
      "C:\\Users\\JohnDoe\\Anaconda3\\lib\\site-packages\\sklearn\\linear_model\\coordinate_descent.py:475: ConvergenceWarning: Objective did not converge. You might want to increase the number of iterations. Duality gap: 3982.192357616512, tolerance: 1.2353013123057688\n",
      "  positive)\n",
      "C:\\Users\\JohnDoe\\Anaconda3\\lib\\site-packages\\sklearn\\linear_model\\coordinate_descent.py:475: ConvergenceWarning: Objective did not converge. You might want to increase the number of iterations. Duality gap: 2305.2756836681515, tolerance: 0.5889183400927543\n",
      "  positive)\n",
      "C:\\Users\\JohnDoe\\Anaconda3\\lib\\site-packages\\sklearn\\linear_model\\coordinate_descent.py:475: ConvergenceWarning: Objective did not converge. You might want to increase the number of iterations. Duality gap: 4822.741288557128, tolerance: 1.2353013123057688\n",
      "  positive)\n",
      "C:\\Users\\JohnDoe\\Anaconda3\\lib\\site-packages\\sklearn\\linear_model\\coordinate_descent.py:475: ConvergenceWarning: Objective did not converge. You might want to increase the number of iterations. Duality gap: 2582.9269918229984, tolerance: 0.5889183400927543\n",
      "  positive)\n",
      "C:\\Users\\JohnDoe\\Anaconda3\\lib\\site-packages\\sklearn\\linear_model\\coordinate_descent.py:475: ConvergenceWarning: Objective did not converge. You might want to increase the number of iterations. Duality gap: 5407.94320379107, tolerance: 1.2353013123057688\n",
      "  positive)\n",
      "[Parallel(n_jobs=1)]: Done  36 out of  36 | elapsed:    0.3s finished\n"
     ]
    },
    {
     "name": "stdout",
     "output_type": "stream",
     "text": [
      "ElasticNet | nested RMSE -6.553725765303694 +/- 2.0917798118808864\n",
      "starting repetition 2 with seed 1\n",
      "Fitting 2 folds for each of 18 candidates, totalling 36 fits\n"
     ]
    },
    {
     "name": "stderr",
     "output_type": "stream",
     "text": [
      "[Parallel(n_jobs=1)]: Using backend SequentialBackend with 1 concurrent workers.\n",
      "C:\\Users\\JohnDoe\\Anaconda3\\lib\\site-packages\\sklearn\\linear_model\\coordinate_descent.py:475: ConvergenceWarning: Objective did not converge. You might want to increase the number of iterations. Duality gap: 958.6905317062544, tolerance: 0.9862778614944321\n",
      "  positive)\n",
      "C:\\Users\\JohnDoe\\Anaconda3\\lib\\site-packages\\sklearn\\linear_model\\coordinate_descent.py:475: ConvergenceWarning: Objective did not converge. You might want to increase the number of iterations. Duality gap: 935.1308716939545, tolerance: 0.9903127075206681\n",
      "  positive)\n",
      "C:\\Users\\JohnDoe\\Anaconda3\\lib\\site-packages\\sklearn\\linear_model\\coordinate_descent.py:475: ConvergenceWarning: Objective did not converge. You might want to increase the number of iterations. Duality gap: 1582.3101437149753, tolerance: 0.9862778614944321\n",
      "  positive)\n",
      "C:\\Users\\JohnDoe\\Anaconda3\\lib\\site-packages\\sklearn\\linear_model\\coordinate_descent.py:475: ConvergenceWarning: Objective did not converge. You might want to increase the number of iterations. Duality gap: 1531.860641663096, tolerance: 0.9903127075206681\n",
      "  positive)\n",
      "C:\\Users\\JohnDoe\\Anaconda3\\lib\\site-packages\\sklearn\\linear_model\\coordinate_descent.py:475: ConvergenceWarning: Objective did not converge. You might want to increase the number of iterations. Duality gap: 2365.052418855458, tolerance: 0.9862778614944321\n",
      "  positive)\n",
      "C:\\Users\\JohnDoe\\Anaconda3\\lib\\site-packages\\sklearn\\linear_model\\coordinate_descent.py:475: ConvergenceWarning: Objective did not converge. You might want to increase the number of iterations. Duality gap: 2286.823661822332, tolerance: 0.9903127075206681\n",
      "  positive)\n",
      "C:\\Users\\JohnDoe\\Anaconda3\\lib\\site-packages\\sklearn\\linear_model\\coordinate_descent.py:475: ConvergenceWarning: Objective did not converge. You might want to increase the number of iterations. Duality gap: 3170.050633182266, tolerance: 0.9862778614944321\n",
      "  positive)\n",
      "C:\\Users\\JohnDoe\\Anaconda3\\lib\\site-packages\\sklearn\\linear_model\\coordinate_descent.py:475: ConvergenceWarning: Objective did not converge. You might want to increase the number of iterations. Duality gap: 3083.5690061242803, tolerance: 0.9903127075206681\n",
      "  positive)\n",
      "C:\\Users\\JohnDoe\\Anaconda3\\lib\\site-packages\\sklearn\\linear_model\\coordinate_descent.py:475: ConvergenceWarning: Objective did not converge. You might want to increase the number of iterations. Duality gap: 3843.68889499664, tolerance: 0.9862778614944321\n",
      "  positive)\n",
      "C:\\Users\\JohnDoe\\Anaconda3\\lib\\site-packages\\sklearn\\linear_model\\coordinate_descent.py:475: ConvergenceWarning: Objective did not converge. You might want to increase the number of iterations. Duality gap: 3774.469384212482, tolerance: 0.9903127075206681\n",
      "  positive)\n",
      "C:\\Users\\JohnDoe\\Anaconda3\\lib\\site-packages\\sklearn\\linear_model\\coordinate_descent.py:475: ConvergenceWarning: Objective did not converge. You might want to increase the number of iterations. Duality gap: 4313.60463759145, tolerance: 0.9862778614944321\n",
      "  positive)\n",
      "C:\\Users\\JohnDoe\\Anaconda3\\lib\\site-packages\\sklearn\\linear_model\\coordinate_descent.py:475: ConvergenceWarning: Objective did not converge. You might want to increase the number of iterations. Duality gap: 4272.7405567698315, tolerance: 0.9903127075206681\n",
      "  positive)\n",
      "[Parallel(n_jobs=1)]: Done  36 out of  36 | elapsed:    0.3s finished\n",
      "[Parallel(n_jobs=1)]: Using backend SequentialBackend with 1 concurrent workers.\n",
      "C:\\Users\\JohnDoe\\Anaconda3\\lib\\site-packages\\sklearn\\linear_model\\coordinate_descent.py:475: ConvergenceWarning: Objective did not converge. You might want to increase the number of iterations. Duality gap: 957.434024035223, tolerance: 0.9669164984900248\n",
      "  positive)\n",
      "C:\\Users\\JohnDoe\\Anaconda3\\lib\\site-packages\\sklearn\\linear_model\\coordinate_descent.py:475: ConvergenceWarning: Objective did not converge. You might want to increase the number of iterations. Duality gap: 1038.8627054786477, tolerance: 1.0912245466764159\n",
      "  positive)\n"
     ]
    },
    {
     "name": "stdout",
     "output_type": "stream",
     "text": [
      "Fitting 2 folds for each of 18 candidates, totalling 36 fits\n"
     ]
    },
    {
     "name": "stderr",
     "output_type": "stream",
     "text": [
      "C:\\Users\\JohnDoe\\Anaconda3\\lib\\site-packages\\sklearn\\linear_model\\coordinate_descent.py:475: ConvergenceWarning: Objective did not converge. You might want to increase the number of iterations. Duality gap: 1589.9241139201215, tolerance: 0.9669164984900248\n",
      "  positive)\n",
      "C:\\Users\\JohnDoe\\Anaconda3\\lib\\site-packages\\sklearn\\linear_model\\coordinate_descent.py:475: ConvergenceWarning: Objective did not converge. You might want to increase the number of iterations. Duality gap: 1706.0072866857358, tolerance: 1.0912245466764159\n",
      "  positive)\n",
      "C:\\Users\\JohnDoe\\Anaconda3\\lib\\site-packages\\sklearn\\linear_model\\coordinate_descent.py:475: ConvergenceWarning: Objective did not converge. You might want to increase the number of iterations. Duality gap: 2381.0031151627736, tolerance: 0.9669164984900248\n",
      "  positive)\n",
      "C:\\Users\\JohnDoe\\Anaconda3\\lib\\site-packages\\sklearn\\linear_model\\coordinate_descent.py:475: ConvergenceWarning: Objective did not converge. You might want to increase the number of iterations. Duality gap: 2548.850287260503, tolerance: 1.0912245466764159\n",
      "  positive)\n",
      "C:\\Users\\JohnDoe\\Anaconda3\\lib\\site-packages\\sklearn\\linear_model\\coordinate_descent.py:475: ConvergenceWarning: Objective did not converge. You might want to increase the number of iterations. Duality gap: 3179.622219066612, tolerance: 0.9669164984900248\n",
      "  positive)\n",
      "C:\\Users\\JohnDoe\\Anaconda3\\lib\\site-packages\\sklearn\\linear_model\\coordinate_descent.py:475: ConvergenceWarning: Objective did not converge. You might want to increase the number of iterations. Duality gap: 3431.519842038289, tolerance: 1.0912245466764159\n",
      "  positive)\n",
      "C:\\Users\\JohnDoe\\Anaconda3\\lib\\site-packages\\sklearn\\linear_model\\coordinate_descent.py:475: ConvergenceWarning: Objective did not converge. You might want to increase the number of iterations. Duality gap: 3829.485356730957, tolerance: 0.9669164984900248\n",
      "  positive)\n",
      "C:\\Users\\JohnDoe\\Anaconda3\\lib\\site-packages\\sklearn\\linear_model\\coordinate_descent.py:475: ConvergenceWarning: Objective did not converge. You might want to increase the number of iterations. Duality gap: 4188.198794664013, tolerance: 1.0912245466764159\n",
      "  positive)\n",
      "C:\\Users\\JohnDoe\\Anaconda3\\lib\\site-packages\\sklearn\\linear_model\\coordinate_descent.py:475: ConvergenceWarning: Objective did not converge. You might want to increase the number of iterations. Duality gap: 4270.796030021794, tolerance: 0.9669164984900248\n",
      "  positive)\n",
      "C:\\Users\\JohnDoe\\Anaconda3\\lib\\site-packages\\sklearn\\linear_model\\coordinate_descent.py:475: ConvergenceWarning: Objective did not converge. You might want to increase the number of iterations. Duality gap: 4728.184120753378, tolerance: 1.0912245466764159\n",
      "  positive)\n",
      "[Parallel(n_jobs=1)]: Done  36 out of  36 | elapsed:    0.3s finished\n"
     ]
    },
    {
     "name": "stdout",
     "output_type": "stream",
     "text": [
      "Fitting 2 folds for each of 18 candidates, totalling 36 fits\n"
     ]
    },
    {
     "name": "stderr",
     "output_type": "stream",
     "text": [
      "[Parallel(n_jobs=1)]: Using backend SequentialBackend with 1 concurrent workers.\n",
      "C:\\Users\\JohnDoe\\Anaconda3\\lib\\site-packages\\sklearn\\linear_model\\coordinate_descent.py:475: ConvergenceWarning: Objective did not converge. You might want to increase the number of iterations. Duality gap: 627.9160291066411, tolerance: 0.6352242314460524\n",
      "  positive)\n",
      "C:\\Users\\JohnDoe\\Anaconda3\\lib\\site-packages\\sklearn\\linear_model\\coordinate_descent.py:475: ConvergenceWarning: Objective did not converge. You might want to increase the number of iterations. Duality gap: 938.2896777592483, tolerance: 0.9789608045900637\n",
      "  positive)\n",
      "C:\\Users\\JohnDoe\\Anaconda3\\lib\\site-packages\\sklearn\\linear_model\\coordinate_descent.py:475: ConvergenceWarning: Objective did not converge. You might want to increase the number of iterations. Duality gap: 1042.485806780992, tolerance: 0.6352242314460524\n",
      "  positive)\n",
      "C:\\Users\\JohnDoe\\Anaconda3\\lib\\site-packages\\sklearn\\linear_model\\coordinate_descent.py:475: ConvergenceWarning: Objective did not converge. You might want to increase the number of iterations. Duality gap: 1542.8819821878878, tolerance: 0.9789608045900637\n",
      "  positive)\n",
      "C:\\Users\\JohnDoe\\Anaconda3\\lib\\site-packages\\sklearn\\linear_model\\coordinate_descent.py:475: ConvergenceWarning: Objective did not converge. You might want to increase the number of iterations. Duality gap: 1561.805211586162, tolerance: 0.6352242314460524\n",
      "  positive)\n",
      "C:\\Users\\JohnDoe\\Anaconda3\\lib\\site-packages\\sklearn\\linear_model\\coordinate_descent.py:475: ConvergenceWarning: Objective did not converge. You might want to increase the number of iterations. Duality gap: 2305.2733931028897, tolerance: 0.9789608045900637\n",
      "  positive)\n",
      "C:\\Users\\JohnDoe\\Anaconda3\\lib\\site-packages\\sklearn\\linear_model\\coordinate_descent.py:475: ConvergenceWarning: Objective did not converge. You might want to increase the number of iterations. Duality gap: 2087.2496875356455, tolerance: 0.6352242314460524\n",
      "  positive)\n",
      "C:\\Users\\JohnDoe\\Anaconda3\\lib\\site-packages\\sklearn\\linear_model\\coordinate_descent.py:475: ConvergenceWarning: Objective did not converge. You might want to increase the number of iterations. Duality gap: 3100.0194357282753, tolerance: 0.9789608045900637\n",
      "  positive)\n",
      "C:\\Users\\JohnDoe\\Anaconda3\\lib\\site-packages\\sklearn\\linear_model\\coordinate_descent.py:475: ConvergenceWarning: Objective did not converge. You might want to increase the number of iterations. Duality gap: 2515.296218431435, tolerance: 0.6352242314460524\n",
      "  positive)\n",
      "C:\\Users\\JohnDoe\\Anaconda3\\lib\\site-packages\\sklearn\\linear_model\\coordinate_descent.py:475: ConvergenceWarning: Objective did not converge. You might want to increase the number of iterations. Duality gap: 3776.6182018624168, tolerance: 0.9789608045900637\n",
      "  positive)\n",
      "C:\\Users\\JohnDoe\\Anaconda3\\lib\\site-packages\\sklearn\\linear_model\\coordinate_descent.py:475: ConvergenceWarning: Objective did not converge. You might want to increase the number of iterations. Duality gap: 2805.809597749574, tolerance: 0.6352242314460524\n",
      "  positive)\n",
      "C:\\Users\\JohnDoe\\Anaconda3\\lib\\site-packages\\sklearn\\linear_model\\coordinate_descent.py:475: ConvergenceWarning: Objective did not converge. You might want to increase the number of iterations. Duality gap: 4255.679860221348, tolerance: 0.9789608045900637\n",
      "  positive)\n",
      "[Parallel(n_jobs=1)]: Done  36 out of  36 | elapsed:    0.2s finished\n",
      "[Parallel(n_jobs=1)]: Using backend SequentialBackend with 1 concurrent workers.\n",
      "C:\\Users\\JohnDoe\\Anaconda3\\lib\\site-packages\\sklearn\\linear_model\\coordinate_descent.py:475: ConvergenceWarning: Objective did not converge. You might want to increase the number of iterations. Duality gap: 751.6240215892074, tolerance: 0.7675724396530371\n",
      "  positive)\n",
      "C:\\Users\\JohnDoe\\Anaconda3\\lib\\site-packages\\sklearn\\linear_model\\coordinate_descent.py:475: ConvergenceWarning: Objective did not converge. You might want to increase the number of iterations. Duality gap: 723.7157170035931, tolerance: 0.7415983773828465\n",
      "  positive)\n"
     ]
    },
    {
     "name": "stdout",
     "output_type": "stream",
     "text": [
      "Fitting 2 folds for each of 18 candidates, totalling 36 fits\n"
     ]
    },
    {
     "name": "stderr",
     "output_type": "stream",
     "text": [
      "C:\\Users\\JohnDoe\\Anaconda3\\lib\\site-packages\\sklearn\\linear_model\\coordinate_descent.py:475: ConvergenceWarning: Objective did not converge. You might want to increase the number of iterations. Duality gap: 1243.8452143432037, tolerance: 0.7675724396530371\n",
      "  positive)\n",
      "C:\\Users\\JohnDoe\\Anaconda3\\lib\\site-packages\\sklearn\\linear_model\\coordinate_descent.py:475: ConvergenceWarning: Objective did not converge. You might want to increase the number of iterations. Duality gap: 1196.0715720957055, tolerance: 0.7415983773828465\n",
      "  positive)\n",
      "C:\\Users\\JohnDoe\\Anaconda3\\lib\\site-packages\\sklearn\\linear_model\\coordinate_descent.py:475: ConvergenceWarning: Objective did not converge. You might want to increase the number of iterations. Duality gap: 1861.1394794350172, tolerance: 0.7675724396530371\n",
      "  positive)\n",
      "C:\\Users\\JohnDoe\\Anaconda3\\lib\\site-packages\\sklearn\\linear_model\\coordinate_descent.py:475: ConvergenceWarning: Objective did not converge. You might want to increase the number of iterations. Duality gap: 1788.6923331584062, tolerance: 0.7415983773828465\n",
      "  positive)\n",
      "C:\\Users\\JohnDoe\\Anaconda3\\lib\\site-packages\\sklearn\\linear_model\\coordinate_descent.py:475: ConvergenceWarning: Objective did not converge. You might want to increase the number of iterations. Duality gap: 2491.3221119778386, tolerance: 0.7675724396530371\n",
      "  positive)\n",
      "C:\\Users\\JohnDoe\\Anaconda3\\lib\\site-packages\\sklearn\\linear_model\\coordinate_descent.py:475: ConvergenceWarning: Objective did not converge. You might want to increase the number of iterations. Duality gap: 2395.9868744206515, tolerance: 0.7415983773828465\n",
      "  positive)\n",
      "C:\\Users\\JohnDoe\\Anaconda3\\lib\\site-packages\\sklearn\\linear_model\\coordinate_descent.py:475: ConvergenceWarning: Objective did not converge. You might want to increase the number of iterations. Duality gap: 3012.4173077885107, tolerance: 0.7675724396530371\n",
      "  positive)\n",
      "C:\\Users\\JohnDoe\\Anaconda3\\lib\\site-packages\\sklearn\\linear_model\\coordinate_descent.py:475: ConvergenceWarning: Objective did not converge. You might want to increase the number of iterations. Duality gap: 2901.1088339062653, tolerance: 0.7415983773828465\n",
      "  positive)\n",
      "C:\\Users\\JohnDoe\\Anaconda3\\lib\\site-packages\\sklearn\\linear_model\\coordinate_descent.py:475: ConvergenceWarning: Objective did not converge. You might want to increase the number of iterations. Duality gap: 3371.644536819088, tolerance: 0.7675724396530371\n",
      "  positive)\n",
      "C:\\Users\\JohnDoe\\Anaconda3\\lib\\site-packages\\sklearn\\linear_model\\coordinate_descent.py:475: ConvergenceWarning: Objective did not converge. You might want to increase the number of iterations. Duality gap: 3251.207532619998, tolerance: 0.7415983773828465\n",
      "  positive)\n",
      "[Parallel(n_jobs=1)]: Done  36 out of  36 | elapsed:    0.2s finished\n",
      "[Parallel(n_jobs=1)]: Using backend SequentialBackend with 1 concurrent workers.\n",
      "C:\\Users\\JohnDoe\\Anaconda3\\lib\\site-packages\\sklearn\\linear_model\\coordinate_descent.py:475: ConvergenceWarning: Objective did not converge. You might want to increase the number of iterations. Duality gap: 877.7249555694264, tolerance: 0.9216037354916958\n",
      "  positive)\n",
      "C:\\Users\\JohnDoe\\Anaconda3\\lib\\site-packages\\sklearn\\linear_model\\coordinate_descent.py:475: ConvergenceWarning: Objective did not converge. You might want to increase the number of iterations. Duality gap: 694.4596158314138, tolerance: 0.7382473046242289\n",
      "  positive)\n",
      "C:\\Users\\JohnDoe\\Anaconda3\\lib\\site-packages\\sklearn\\linear_model\\coordinate_descent.py:475: ConvergenceWarning: Objective did not converge. You might want to increase the number of iterations. Duality gap: 1445.9287127410917, tolerance: 0.9216037354916958\n",
      "  positive)\n",
      "C:\\Users\\JohnDoe\\Anaconda3\\lib\\site-packages\\sklearn\\linear_model\\coordinate_descent.py:475: ConvergenceWarning: Objective did not converge. You might want to increase the number of iterations. Duality gap: 1141.104920244904, tolerance: 0.7382473046242289\n",
      "  positive)\n",
      "C:\\Users\\JohnDoe\\Anaconda3\\lib\\site-packages\\sklearn\\linear_model\\coordinate_descent.py:475: ConvergenceWarning: Objective did not converge. You might want to increase the number of iterations. Duality gap: 2167.6876644702998, tolerance: 0.9216037354916958\n",
      "  positive)\n",
      "C:\\Users\\JohnDoe\\Anaconda3\\lib\\site-packages\\sklearn\\linear_model\\coordinate_descent.py:475: ConvergenceWarning: Objective did not converge. You might want to increase the number of iterations. Duality gap: 1711.3060828314756, tolerance: 0.7382473046242289\n",
      "  positive)\n"
     ]
    },
    {
     "name": "stdout",
     "output_type": "stream",
     "text": [
      "Fitting 2 folds for each of 18 candidates, totalling 36 fits\n"
     ]
    },
    {
     "name": "stderr",
     "output_type": "stream",
     "text": [
      "C:\\Users\\JohnDoe\\Anaconda3\\lib\\site-packages\\sklearn\\linear_model\\coordinate_descent.py:475: ConvergenceWarning: Objective did not converge. You might want to increase the number of iterations. Duality gap: 2922.233353748172, tolerance: 0.9216037354916958\n",
      "  positive)\n",
      "C:\\Users\\JohnDoe\\Anaconda3\\lib\\site-packages\\sklearn\\linear_model\\coordinate_descent.py:475: ConvergenceWarning: Objective did not converge. You might want to increase the number of iterations. Duality gap: 2313.8989542851737, tolerance: 0.7382473046242289\n",
      "  positive)\n",
      "C:\\Users\\JohnDoe\\Anaconda3\\lib\\site-packages\\sklearn\\linear_model\\coordinate_descent.py:475: ConvergenceWarning: Objective did not converge. You might want to increase the number of iterations. Duality gap: 3562.312594591681, tolerance: 0.9216037354916958\n",
      "  positive)\n",
      "C:\\Users\\JohnDoe\\Anaconda3\\lib\\site-packages\\sklearn\\linear_model\\coordinate_descent.py:475: ConvergenceWarning: Objective did not converge. You might want to increase the number of iterations. Duality gap: 2831.53481234415, tolerance: 0.7382473046242289\n",
      "  positive)\n",
      "C:\\Users\\JohnDoe\\Anaconda3\\lib\\site-packages\\sklearn\\linear_model\\coordinate_descent.py:475: ConvergenceWarning: Objective did not converge. You might want to increase the number of iterations. Duality gap: 4012.575801899773, tolerance: 0.9216037354916958\n",
      "  positive)\n",
      "C:\\Users\\JohnDoe\\Anaconda3\\lib\\site-packages\\sklearn\\linear_model\\coordinate_descent.py:475: ConvergenceWarning: Objective did not converge. You might want to increase the number of iterations. Duality gap: 3199.524439989886, tolerance: 0.7382473046242289\n",
      "  positive)\n",
      "[Parallel(n_jobs=1)]: Done  36 out of  36 | elapsed:    0.2s finished\n",
      "[Parallel(n_jobs=1)]: Using backend SequentialBackend with 1 concurrent workers.\n"
     ]
    },
    {
     "name": "stdout",
     "output_type": "stream",
     "text": [
      "ElasticNet | nested RMSE -6.815365643115714 +/- 3.768884629736452\n",
      "optimizing and evaluating LinearSVR\n",
      "starting repetition 1 with seed 0\n",
      "Fitting 2 folds for each of 8 candidates, totalling 16 fits\n",
      "Fitting 2 folds for each of 8 candidates, totalling 16 fits\n"
     ]
    },
    {
     "name": "stderr",
     "output_type": "stream",
     "text": [
      "[Parallel(n_jobs=1)]: Done  16 out of  16 | elapsed:    0.0s finished\n",
      "[Parallel(n_jobs=1)]: Using backend SequentialBackend with 1 concurrent workers.\n",
      "[Parallel(n_jobs=1)]: Done  16 out of  16 | elapsed:    0.0s finished\n",
      "[Parallel(n_jobs=1)]: Using backend SequentialBackend with 1 concurrent workers.\n"
     ]
    },
    {
     "name": "stdout",
     "output_type": "stream",
     "text": [
      "Fitting 2 folds for each of 8 candidates, totalling 16 fits\n",
      "Fitting 2 folds for each of 8 candidates, totalling 16 fits\n"
     ]
    },
    {
     "name": "stderr",
     "output_type": "stream",
     "text": [
      "[Parallel(n_jobs=1)]: Done  16 out of  16 | elapsed:    0.0s finished\n",
      "[Parallel(n_jobs=1)]: Using backend SequentialBackend with 1 concurrent workers.\n",
      "[Parallel(n_jobs=1)]: Done  16 out of  16 | elapsed:    0.0s finished\n",
      "[Parallel(n_jobs=1)]: Using backend SequentialBackend with 1 concurrent workers.\n"
     ]
    },
    {
     "name": "stdout",
     "output_type": "stream",
     "text": [
      "Fitting 2 folds for each of 8 candidates, totalling 16 fits\n",
      "LinearSVR | nested RMSE -1.65626527151191e-09 +/- 1.887932477743004e-09\n",
      "starting repetition 2 with seed 1\n",
      "Fitting 2 folds for each of 8 candidates, totalling 16 fits\n"
     ]
    },
    {
     "name": "stderr",
     "output_type": "stream",
     "text": [
      "[Parallel(n_jobs=1)]: Done  16 out of  16 | elapsed:    0.0s finished\n",
      "[Parallel(n_jobs=1)]: Using backend SequentialBackend with 1 concurrent workers.\n",
      "[Parallel(n_jobs=1)]: Done  16 out of  16 | elapsed:    0.0s finished\n",
      "[Parallel(n_jobs=1)]: Using backend SequentialBackend with 1 concurrent workers.\n"
     ]
    },
    {
     "name": "stdout",
     "output_type": "stream",
     "text": [
      "Fitting 2 folds for each of 8 candidates, totalling 16 fits\n",
      "Fitting 2 folds for each of 8 candidates, totalling 16 fits\n"
     ]
    },
    {
     "name": "stderr",
     "output_type": "stream",
     "text": [
      "[Parallel(n_jobs=1)]: Done  16 out of  16 | elapsed:    0.0s finished\n",
      "[Parallel(n_jobs=1)]: Using backend SequentialBackend with 1 concurrent workers.\n",
      "[Parallel(n_jobs=1)]: Done  16 out of  16 | elapsed:    0.0s finished\n",
      "[Parallel(n_jobs=1)]: Using backend SequentialBackend with 1 concurrent workers.\n"
     ]
    },
    {
     "name": "stdout",
     "output_type": "stream",
     "text": [
      "Fitting 2 folds for each of 8 candidates, totalling 16 fits\n",
      "Fitting 2 folds for each of 8 candidates, totalling 16 fits\n"
     ]
    },
    {
     "name": "stderr",
     "output_type": "stream",
     "text": [
      "[Parallel(n_jobs=1)]: Done  16 out of  16 | elapsed:    0.0s finished\n",
      "[Parallel(n_jobs=1)]: Using backend SequentialBackend with 1 concurrent workers.\n",
      "[Parallel(n_jobs=1)]: Done  16 out of  16 | elapsed:    0.0s finished\n",
      "[Parallel(n_jobs=1)]: Using backend SequentialBackend with 1 concurrent workers.\n",
      "[Parallel(n_jobs=1)]: Done   4 out of   4 | elapsed:    0.0s finished\n",
      "[Parallel(n_jobs=1)]: Using backend SequentialBackend with 1 concurrent workers.\n",
      "[Parallel(n_jobs=1)]: Done   4 out of   4 | elapsed:    0.0s finished\n",
      "[Parallel(n_jobs=1)]: Using backend SequentialBackend with 1 concurrent workers.\n",
      "[Parallel(n_jobs=1)]: Done   4 out of   4 | elapsed:    0.0s finished\n"
     ]
    },
    {
     "name": "stdout",
     "output_type": "stream",
     "text": [
      "LinearSVR | nested RMSE -3.029124980211754e-10 +/- 3.1100094476137435e-10\n",
      "optimizing and evaluating Dummy\n",
      "starting repetition 1 with seed 0\n",
      "Fitting 2 folds for each of 2 candidates, totalling 4 fits\n",
      "Fitting 2 folds for each of 2 candidates, totalling 4 fits\n",
      "Fitting 2 folds for each of 2 candidates, totalling 4 fits\n",
      "Fitting 2 folds for each of 2 candidates, totalling 4 fits\n",
      "Fitting 2 folds for each of 2 candidates, totalling 4 fits\n",
      "Dummy | nested RMSE -23039.98875679118 +/- 5976.098395847878\n",
      "starting repetition 2 with seed 1\n",
      "Fitting 2 folds for each of 2 candidates, totalling 4 fits\n",
      "Fitting 2 folds for each of 2 candidates, totalling 4 fits"
     ]
    },
    {
     "name": "stderr",
     "output_type": "stream",
     "text": [
      "[Parallel(n_jobs=1)]: Using backend SequentialBackend with 1 concurrent workers.\n",
      "[Parallel(n_jobs=1)]: Done   4 out of   4 | elapsed:    0.0s finished\n",
      "[Parallel(n_jobs=1)]: Using backend SequentialBackend with 1 concurrent workers.\n",
      "[Parallel(n_jobs=1)]: Done   4 out of   4 | elapsed:    0.0s finished\n",
      "[Parallel(n_jobs=1)]: Using backend SequentialBackend with 1 concurrent workers.\n",
      "[Parallel(n_jobs=1)]: Done   4 out of   4 | elapsed:    0.0s finished\n",
      "[Parallel(n_jobs=1)]: Using backend SequentialBackend with 1 concurrent workers.\n",
      "[Parallel(n_jobs=1)]: Done   4 out of   4 | elapsed:    0.0s finished\n",
      "[Parallel(n_jobs=1)]: Using backend SequentialBackend with 1 concurrent workers.\n",
      "[Parallel(n_jobs=1)]: Done   4 out of   4 | elapsed:    0.0s finished\n",
      "[Parallel(n_jobs=1)]: Using backend SequentialBackend with 1 concurrent workers.\n",
      "[Parallel(n_jobs=1)]: Done   4 out of   4 | elapsed:    0.0s finished\n",
      "[Parallel(n_jobs=1)]: Using backend SequentialBackend with 1 concurrent workers.\n"
     ]
    },
    {
     "name": "stdout",
     "output_type": "stream",
     "text": [
      "\n",
      "Fitting 2 folds for each of 2 candidates, totalling 4 fits\n",
      "Fitting 2 folds for each of 2 candidates, totalling 4 fits\n",
      "Fitting 2 folds for each of 2 candidates, totalling 4 fits\n",
      "Dummy | nested RMSE -22495.27816670343 +/- 10445.218753639583\n"
     ]
    },
    {
     "name": "stderr",
     "output_type": "stream",
     "text": [
      "[Parallel(n_jobs=1)]: Done   4 out of   4 | elapsed:    0.0s finished\n"
     ]
    }
   ],
   "source": [
    "repetitions = 2\n",
    "repetition_seeds = range(repetitions)\n",
    "kfolds_outer = 5\n",
    "               \n",
    "results = {}\n",
    "\n",
    "for name, gs_est in gridcvs.items():\n",
    "    \n",
    "    print(f\"optimizing and evaluating {name}\")\n",
    "    \n",
    "    # pre-allocate data container for saving results of the current comparison\n",
    "    results[name] = np.zeros((repetitions, kfolds_outer))\n",
    "    \n",
    "    for j in repetition_seeds:\n",
    "               \n",
    "        print(f\"starting repetition {j + 1} with seed {j}\")\n",
    "\n",
    "        # set up outer cv of nested for parameter (i.e., model) evaluation; ensure that for\n",
    "        # all comparisons, the randomization of folds is identical\n",
    "        outer_nestedcv = KFold(n_splits=kfolds_outer, shuffle=True, random_state=j)\n",
    "\n",
    "        # optimize the parameters using the inner_nestedcv (run internally\n",
    "        # in cross_val_score) and evaluate the performance of the best parameter setting\n",
    "        # on the outer_nestedcv (also run internally in cross_val_score\n",
    "               \n",
    "        # gs_est returns an estimator that uses the optimized parameters found during grid search to\n",
    "        # predict the labels on the test folds of outer_nestedcv\n",
    "        cv_score = cross_val_score(gs_est,\n",
    "                                   X=X,\n",
    "                                   y=y,\n",
    "                                   cv=outer_nestedcv,\n",
    "                                   n_jobs=1)\n",
    "        print(f\"{name} | nested RMSE {cv_score.mean() * 100} +/- {cv_score.std() * 100}\") \n",
    "        # save the scores of all iterations i of the outer_nestedcv\n",
    "        results[name][j, :] = cv_score"
   ]
  },
  {
   "cell_type": "code",
   "execution_count": 26,
   "metadata": {},
   "outputs": [],
   "source": [
    "from scipy.stats import t\n",
    "from math import sqrt\n",
    "from statistics import stdev\n",
    "\n",
    "def corrected_dependent_ttest(data1, data2, n_training_folds, n_test_folds, alpha):\n",
    "    n = len(data1)\n",
    "    differences = [abs(data1[i]-data2[i]) for i in range(n)]\n",
    "    sd = stdev(differences)\n",
    "    divisor = 1 / n * sum(differences)\n",
    "    test_training_ratio = n_test_folds / n_training_folds  \n",
    "    denominator = sqrt(1 / n + test_training_ratio) * sd\n",
    "    t_stat = divisor / denominator\n",
    "    # degrees of freedom\n",
    "    df = n - 1\n",
    "    # calculate the critical value\n",
    "    cv = t.ppf(1.0 - alpha, df)\n",
    "    # calculate the p-value\n",
    "    p = (1.0 - t.cdf(abs(t_stat), df)) * 2.0\n",
    "    # return everything\n",
    "    return t_stat, df, cv, p"
   ]
  },
  {
   "cell_type": "code",
   "execution_count": 27,
   "metadata": {},
   "outputs": [
    {
     "name": "stdout",
     "output_type": "stream",
     "text": [
      "the comparison of ElasticNet and Dummy resulted in t = 4.288606661837605, p = 0.002024208063418076, with a critical value of 2.5095870571050907 and 9 degrees of freedom\n",
      "the comparison of LinearSVR and Dummy resulted in t = 4.2883378019247544, p = 0.0020250071621235044, with a critical value of 2.5095870571050907 and 9 degrees of freedom\n",
      "the comparison of ElasticNet and LinearSVR resulted in t = 3.5135910962226253, p = 0.006581373812178937, with a critical value of 2.5095870571050907 and 9 degrees of freedom\n"
     ]
    }
   ],
   "source": [
    "comparisons = [[\"ElasticNet\", \"Dummy\"],\n",
    "               [\"LinearSVR\", \"Dummy\"],\n",
    "               [\"ElasticNet\", \"LinearSVR\"]]\n",
    "\n",
    "# calculate test parameters\n",
    "nperfold = n_samples // kfolds_outer\n",
    "ntraininginstances = nperfold * (kfolds_outer - 1)\n",
    "ntestinstances = nperfold\n",
    "alpha = 0.05 / len(comparisons)\n",
    "\n",
    "# test all comparisons for significance\n",
    "for c in comparisons:\n",
    "    # select the relevant subset from results\n",
    "    results_c = {key: value for key, value in results.items() if key in c}\n",
    "    \n",
    "    # combine the RMSEs of all folds in one vector of lengts r * k, with r being\n",
    "    # the number of repetitions and k being the number of folds in the outer cv\n",
    "    # of the nested cv\n",
    "    for key, value in results_c.items():\n",
    "        results_c[key] = np.ravel(value)\n",
    "\n",
    "    models = list(results_c.keys())\n",
    "    scores = list(results_c.values())\n",
    "\n",
    "    t_stat, df, cv, p = corrected_dependent_ttest(scores[0],\n",
    "                                                  scores[1],\n",
    "                                                  ntraininginstances,\n",
    "                                                  ntestinstances,\n",
    "                                                  alpha)\n",
    "    print(f\"the comparison of {models[0]} and {models[1]} resulted in t = {t_stat}, p = {p}, with a critical value of {cv} and {df} degrees of freedom\")"
   ]
  },
  {
   "cell_type": "code",
   "execution_count": 28,
   "metadata": {},
   "outputs": [
    {
     "name": "stdout",
     "output_type": "stream",
     "text": [
      "repetition 1 with seed 0\n",
      "[ 0  1  3  4  5  6  7  8  9 12 14 15 16 18 19 20 21 23 25 29] [ 2 10 11 13 17 22 24 26 27 28]\n",
      "[ 0  2  3  7  9 10 11 12 13 15 17 18 19 21 22 24 25 26 27 28] [ 1  4  5  6  8 14 16 20 23 29]\n",
      "[ 1  2  4  5  6  8 10 11 13 14 16 17 20 22 23 24 26 27 28 29] [ 0  3  7  9 12 15 18 19 21 25]\n",
      "repetition 2 with seed 1\n",
      "[ 0  1  2  4  5  6  7  8  9 11 12 13 15 16 18 23 25 27 28 29] [ 3 10 14 17 19 20 21 22 24 26]\n",
      "[ 0  3  5  8  9 10 11 12 14 15 16 17 19 20 21 22 24 26 28 29] [ 1  2  4  6  7 13 18 23 25 27]\n",
      "[ 1  2  3  4  6  7 10 13 14 17 18 19 20 21 22 23 24 25 26 27] [ 0  5  8  9 11 12 15 16 28 29]\n",
      "repetition 3 with seed 2\n",
      "[ 2  4  5  7  8 10 11 12 13 15 16 17 18 22 24 25 26 27 28 29] [ 0  1  3  6  9 14 19 20 21 23]\n",
      "[ 0  1  3  6  7  8  9 11 13 14 15 18 19 20 21 22 23 24 26 29] [ 2  4  5 10 12 16 17 25 27 28]\n",
      "[ 0  1  2  3  4  5  6  9 10 12 14 16 17 19 20 21 23 25 27 28] [ 7  8 11 13 15 18 22 24 26 29]\n"
     ]
    }
   ],
   "source": [
    "################################################\n",
    "# self-contained, minimal, reproducible examples\n",
    "################################################\n",
    "\n",
    "# repeated k-fold\n",
    "\n",
    "X, y = make_regression(n_samples=30, n_features=2)\n",
    "\n",
    "repetitions = 3\n",
    "repetition_seeds = range(repetitions)\n",
    "\n",
    "for j in repetition_seeds:\n",
    "    \n",
    "    cv = KFold(n_splits=3, random_state=j, shuffle=True)\n",
    "    \n",
    "    print(f\"repetition {j + 1} with seed {j}\")\n",
    "    \n",
    "    for trainidx, testidx in cv.split(X):\n",
    "        print(trainidx, testidx)"
   ]
  }
 ],
 "metadata": {
  "kernelspec": {
   "display_name": "Python 3",
   "language": "python",
   "name": "python3"
  },
  "language_info": {
   "codemirror_mode": {
    "name": "ipython",
    "version": 3
   },
   "file_extension": ".py",
   "mimetype": "text/x-python",
   "name": "python",
   "nbconvert_exporter": "python",
   "pygments_lexer": "ipython3",
   "version": "3.7.3"
  }
 },
 "nbformat": 4,
 "nbformat_minor": 2
}
