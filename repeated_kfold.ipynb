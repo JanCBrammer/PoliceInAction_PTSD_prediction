{
 "cells": [
  {
   "cell_type": "markdown",
   "metadata": {},
   "source": [
    "The nested CV is implemented according to the [Raschka, 2018](https://github.com/rasbt/model-eval-article-supplementary/blob/master/code/nested_cv_code.ipynb) and the associated [paper](https://arxiv.org/abs/1811.12808).\n",
    "The [statistical test](https://gist.github.com/jensdebruijn/13e8eeda85eb8644ac2a4ac4c3b8e732) is implemented according to [Boeckhart and Frank, 2014](https://www.cs.waikato.ac.nz/~eibe/pubs/bouckaert_and_frank.pdf)."
   ]
  },
  {
   "cell_type": "code",
   "execution_count": 1,
   "metadata": {},
   "outputs": [
    {
     "name": "stdout",
     "output_type": "stream",
     "text": [
      "using sklearn version 0.21.3\n",
      "using numpy version 1.17.3\n"
     ]
    }
   ],
   "source": [
    "import numpy as np\n",
    "from sklearn.datasets import make_regression\n",
    "from sklearn.preprocessing import StandardScaler\n",
    "from sklearn.model_selection import KFold, RepeatedKFold, GridSearchCV, cross_val_score\n",
    "from sklearn.pipeline import Pipeline\n",
    "from sklearn.linear_model import ElasticNet\n",
    "from sklearn.svm import LinearSVR\n",
    "from sklearn.dummy import DummyRegressor\n",
    "\n",
    "import sklearn\n",
    "print(f\"using sklearn version {sklearn.__version__}\")\n",
    "print(f\"using numpy version {np.__version__}\")"
   ]
  },
  {
   "cell_type": "code",
   "execution_count": 2,
   "metadata": {},
   "outputs": [],
   "source": [
    "# generate dataset\n",
    "n_samples = 100\n",
    "n_features = 10\n",
    "X, y = make_regression(n_samples=n_samples,\n",
    "                       n_features=n_features,\n",
    "                       n_informative=3,\n",
    "                       random_state=42)\n",
    "\n",
    "# initialize classifiers\n",
    "elasticnet = ElasticNet(random_state=42)\n",
    "linearsvr = LinearSVR(random_state=42)\n",
    "dummyregr = DummyRegressor()\n",
    "\n",
    "# set up pipelines\n",
    "pipe_elasticnet = Pipeline([(\"std\", StandardScaler()),\n",
    "                           (\"elasticnet\", elasticnet)])\n",
    "pipe_linearsvr = Pipeline([(\"std\", StandardScaler()),\n",
    "                           (\"linearsvr\", linearsvr)])\n",
    "pipe_dummyregr = Pipeline([(\"std\", StandardScaler()),\n",
    "                           (\"dummyregr\", dummyregr)])\n",
    "\n",
    "# set up parameter grids for optimization (double underscore preceding parameter is important)\n",
    "# make sure that alpha is > 0.01 (link)\n",
    "grid_elasticnet = [{\"elasticnet__alpha\": np.power(2., np.arange(-2, 4)),\n",
    "                    \"elasticnet__l1_ratio\": [0, 0.5, 1]}]\n",
    "grid_linearsvr = [{\"linearsvr__C\": np.power(10., np.arange(-4, 4))}]\n",
    "grid_dummyregr = [{\"dummyregr__strategy\": [\"mean\", \"median\"]}]\n",
    "\n",
    "# set up inner cv of nested cv for parameter tuning\n",
    "gridcvs = {}\n",
    "kfolds_inner = 2\n",
    "inner_nestedcv = KFold(n_splits=kfolds_inner, shuffle=True, random_state=42)\n",
    "\n",
    "for pgrid, est, name in zip((grid_elasticnet, grid_linearsvr, grid_dummyregr),\n",
    "                            (pipe_elasticnet, pipe_linearsvr, pipe_dummyregr),\n",
    "                            (\"ElasticNet\", \"LinearSVR\", \"Dummy\")):\n",
    "    # refit=True, once optimization is done, refit the entire dataset\n",
    "    gcv = GridSearchCV(estimator=est,\n",
    "                       param_grid=pgrid,\n",
    "                       scoring=\"neg_mean_squared_error\",\n",
    "                       n_jobs=1,\n",
    "                       cv=inner_nestedcv,\n",
    "                       verbose=1,\n",
    "                       refit=True)\n",
    "    gridcvs[name] = gcv"
   ]
  },
  {
   "cell_type": "code",
   "execution_count": 3,
   "metadata": {},
   "outputs": [
    {
     "name": "stdout",
     "output_type": "stream",
     "text": [
      "running comparison of ElasticNet and Dummy\n",
      "starting repetition 1 with seed 0\n",
      "optimizing and evalutaing Dummy\n",
      "Fitting 2 folds for each of 2 candidates, totalling 4 fits\n",
      "Fitting 2 folds for each of 2 candidates, totalling 4 fits\n",
      "Fitting 2 folds for each of 2 candidates, totalling 4 fits"
     ]
    },
    {
     "name": "stderr",
     "output_type": "stream",
     "text": [
      "[Parallel(n_jobs=1)]: Using backend SequentialBackend with 1 concurrent workers.\n",
      "[Parallel(n_jobs=1)]: Done   4 out of   4 | elapsed:    0.0s finished\n",
      "[Parallel(n_jobs=1)]: Using backend SequentialBackend with 1 concurrent workers.\n",
      "[Parallel(n_jobs=1)]: Done   4 out of   4 | elapsed:    0.0s finished\n",
      "[Parallel(n_jobs=1)]: Using backend SequentialBackend with 1 concurrent workers.\n"
     ]
    },
    {
     "name": "stdout",
     "output_type": "stream",
     "text": [
      "\n",
      "Fitting 2 folds for each of 2 candidates, totalling 4 fits\n",
      "Fitting 2 folds for each of 2 candidates, totalling 4 fits\n",
      "Dummy | nested RMSE -481902.0592054449 +/- 121624.12474218727\n",
      "optimizing and evalutaing ElasticNet\n",
      "Fitting 2 folds for each of 18 candidates, totalling 36 fits\n"
     ]
    },
    {
     "name": "stderr",
     "output_type": "stream",
     "text": [
      "[Parallel(n_jobs=1)]: Done   4 out of   4 | elapsed:    0.0s finished\n",
      "[Parallel(n_jobs=1)]: Using backend SequentialBackend with 1 concurrent workers.\n",
      "[Parallel(n_jobs=1)]: Done   4 out of   4 | elapsed:    0.0s finished\n",
      "[Parallel(n_jobs=1)]: Using backend SequentialBackend with 1 concurrent workers.\n",
      "[Parallel(n_jobs=1)]: Done   4 out of   4 | elapsed:    0.0s finished\n",
      "[Parallel(n_jobs=1)]: Using backend SequentialBackend with 1 concurrent workers.\n",
      "C:\\Users\\JohnDoe\\Anaconda3\\lib\\site-packages\\sklearn\\linear_model\\coordinate_descent.py:475: ConvergenceWarning: Objective did not converge. You might want to increase the number of iterations. Duality gap: 15998.916629309182, tolerance: 16.2549128595671\n",
      "  positive)\n",
      "C:\\Users\\JohnDoe\\Anaconda3\\lib\\site-packages\\sklearn\\linear_model\\coordinate_descent.py:475: ConvergenceWarning: Objective did not converge. You might want to increase the number of iterations. Duality gap: 19544.097277662462, tolerance: 20.995623730113493\n",
      "  positive)\n",
      "C:\\Users\\JohnDoe\\Anaconda3\\lib\\site-packages\\sklearn\\linear_model\\coordinate_descent.py:475: ConvergenceWarning: Objective did not converge. You might want to increase the number of iterations. Duality gap: 26314.777947651015, tolerance: 16.2549128595671\n",
      "  positive)\n",
      "C:\\Users\\JohnDoe\\Anaconda3\\lib\\site-packages\\sklearn\\linear_model\\coordinate_descent.py:475: ConvergenceWarning: Objective did not converge. You might want to increase the number of iterations. Duality gap: 31950.309412409184, tolerance: 20.995623730113493\n",
      "  positive)\n",
      "C:\\Users\\JohnDoe\\Anaconda3\\lib\\site-packages\\sklearn\\linear_model\\coordinate_descent.py:475: ConvergenceWarning: Objective did not converge. You might want to increase the number of iterations. Duality gap: 39239.70496581393, tolerance: 16.2549128595671\n",
      "  positive)\n",
      "C:\\Users\\JohnDoe\\Anaconda3\\lib\\site-packages\\sklearn\\linear_model\\coordinate_descent.py:475: ConvergenceWarning: Objective did not converge. You might want to increase the number of iterations. Duality gap: 47739.948211349154, tolerance: 20.995623730113493\n",
      "  positive)\n",
      "C:\\Users\\JohnDoe\\Anaconda3\\lib\\site-packages\\sklearn\\linear_model\\coordinate_descent.py:475: ConvergenceWarning: Objective did not converge. You might want to increase the number of iterations. Duality gap: 52504.13063562677, tolerance: 16.2549128595671\n",
      "  positive)\n",
      "C:\\Users\\JohnDoe\\Anaconda3\\lib\\site-packages\\sklearn\\linear_model\\coordinate_descent.py:475: ConvergenceWarning: Objective did not converge. You might want to increase the number of iterations. Duality gap: 64606.720144675535, tolerance: 20.995623730113493\n",
      "  positive)\n",
      "C:\\Users\\JohnDoe\\Anaconda3\\lib\\site-packages\\sklearn\\linear_model\\coordinate_descent.py:475: ConvergenceWarning: Objective did not converge. You might want to increase the number of iterations. Duality gap: 63559.38779748323, tolerance: 16.2549128595671\n",
      "  positive)\n",
      "C:\\Users\\JohnDoe\\Anaconda3\\lib\\site-packages\\sklearn\\linear_model\\coordinate_descent.py:475: ConvergenceWarning: Objective did not converge. You might want to increase the number of iterations. Duality gap: 79417.92873274123, tolerance: 20.995623730113493\n",
      "  positive)\n",
      "C:\\Users\\JohnDoe\\Anaconda3\\lib\\site-packages\\sklearn\\linear_model\\coordinate_descent.py:475: ConvergenceWarning: Objective did not converge. You might want to increase the number of iterations. Duality gap: 71235.70464482372, tolerance: 16.2549128595671\n",
      "  positive)\n",
      "C:\\Users\\JohnDoe\\Anaconda3\\lib\\site-packages\\sklearn\\linear_model\\coordinate_descent.py:475: ConvergenceWarning: Objective did not converge. You might want to increase the number of iterations. Duality gap: 90195.14424665447, tolerance: 20.995623730113493\n",
      "  positive)\n",
      "[Parallel(n_jobs=1)]: Done  36 out of  36 | elapsed:    0.4s finished\n",
      "[Parallel(n_jobs=1)]: Using backend SequentialBackend with 1 concurrent workers.\n",
      "C:\\Users\\JohnDoe\\Anaconda3\\lib\\site-packages\\sklearn\\linear_model\\coordinate_descent.py:475: ConvergenceWarning: Objective did not converge. You might want to increase the number of iterations. Duality gap: 17098.57620346353, tolerance: 19.766591992472062\n",
      "  positive)\n"
     ]
    },
    {
     "name": "stdout",
     "output_type": "stream",
     "text": [
      "Fitting 2 folds for each of 18 candidates, totalling 36 fits\n"
     ]
    },
    {
     "name": "stderr",
     "output_type": "stream",
     "text": [
      "C:\\Users\\JohnDoe\\Anaconda3\\lib\\site-packages\\sklearn\\linear_model\\coordinate_descent.py:475: ConvergenceWarning: Objective did not converge. You might want to increase the number of iterations. Duality gap: 17572.649008250333, tolerance: 18.661558656795943\n",
      "  positive)\n",
      "C:\\Users\\JohnDoe\\Anaconda3\\lib\\site-packages\\sklearn\\linear_model\\coordinate_descent.py:475: ConvergenceWarning: Objective did not converge. You might want to increase the number of iterations. Duality gap: 28622.45520291877, tolerance: 19.766591992472062\n",
      "  positive)\n",
      "C:\\Users\\JohnDoe\\Anaconda3\\lib\\site-packages\\sklearn\\linear_model\\coordinate_descent.py:475: ConvergenceWarning: Objective did not converge. You might want to increase the number of iterations. Duality gap: 29108.872852070344, tolerance: 18.661558656795943\n",
      "  positive)\n",
      "C:\\Users\\JohnDoe\\Anaconda3\\lib\\site-packages\\sklearn\\linear_model\\coordinate_descent.py:475: ConvergenceWarning: Objective did not converge. You might want to increase the number of iterations. Duality gap: 43658.39832124989, tolerance: 19.766591992472062\n",
      "  positive)\n",
      "C:\\Users\\JohnDoe\\Anaconda3\\lib\\site-packages\\sklearn\\linear_model\\coordinate_descent.py:475: ConvergenceWarning: Objective did not converge. You might want to increase the number of iterations. Duality gap: 43774.47006068312, tolerance: 18.661558656795943\n",
      "  positive)\n",
      "C:\\Users\\JohnDoe\\Anaconda3\\lib\\site-packages\\sklearn\\linear_model\\coordinate_descent.py:475: ConvergenceWarning: Objective did not converge. You might want to increase the number of iterations. Duality gap: 59897.53423656242, tolerance: 19.766591992472062\n",
      "  positive)\n",
      "C:\\Users\\JohnDoe\\Anaconda3\\lib\\site-packages\\sklearn\\linear_model\\coordinate_descent.py:475: ConvergenceWarning: Objective did not converge. You might want to increase the number of iterations. Duality gap: 59079.084553206994, tolerance: 18.661558656795943\n",
      "  positive)\n",
      "C:\\Users\\JohnDoe\\Anaconda3\\lib\\site-packages\\sklearn\\linear_model\\coordinate_descent.py:475: ConvergenceWarning: Objective did not converge. You might want to increase the number of iterations. Duality gap: 74182.63609581432, tolerance: 19.766591992472062\n",
      "  positive)\n",
      "C:\\Users\\JohnDoe\\Anaconda3\\lib\\site-packages\\sklearn\\linear_model\\coordinate_descent.py:475: ConvergenceWarning: Objective did not converge. You might want to increase the number of iterations. Duality gap: 72049.94818043415, tolerance: 18.661558656795943\n",
      "  positive)\n",
      "C:\\Users\\JohnDoe\\Anaconda3\\lib\\site-packages\\sklearn\\linear_model\\coordinate_descent.py:475: ConvergenceWarning: Objective did not converge. You might want to increase the number of iterations. Duality gap: 84572.5423513875, tolerance: 19.766591992472062\n",
      "  positive)\n",
      "C:\\Users\\JohnDoe\\Anaconda3\\lib\\site-packages\\sklearn\\linear_model\\coordinate_descent.py:475: ConvergenceWarning: Objective did not converge. You might want to increase the number of iterations. Duality gap: 81184.50226751037, tolerance: 18.661558656795943\n",
      "  positive)\n",
      "[Parallel(n_jobs=1)]: Done  36 out of  36 | elapsed:    0.3s finished\n"
     ]
    },
    {
     "name": "stdout",
     "output_type": "stream",
     "text": [
      "Fitting 2 folds for each of 18 candidates, totalling 36 fits\n"
     ]
    },
    {
     "name": "stderr",
     "output_type": "stream",
     "text": [
      "[Parallel(n_jobs=1)]: Using backend SequentialBackend with 1 concurrent workers.\n",
      "C:\\Users\\JohnDoe\\Anaconda3\\lib\\site-packages\\sklearn\\linear_model\\coordinate_descent.py:475: ConvergenceWarning: Objective did not converge. You might want to increase the number of iterations. Duality gap: 14161.972537958327, tolerance: 14.793313019928586\n",
      "  positive)\n",
      "C:\\Users\\JohnDoe\\Anaconda3\\lib\\site-packages\\sklearn\\linear_model\\coordinate_descent.py:475: ConvergenceWarning: Objective did not converge. You might want to increase the number of iterations. Duality gap: 18125.574961077487, tolerance: 19.964249748311826\n",
      "  positive)\n",
      "C:\\Users\\JohnDoe\\Anaconda3\\lib\\site-packages\\sklearn\\linear_model\\coordinate_descent.py:475: ConvergenceWarning: Objective did not converge. You might want to increase the number of iterations. Duality gap: 23429.870877003043, tolerance: 14.793313019928586\n",
      "  positive)\n",
      "C:\\Users\\JohnDoe\\Anaconda3\\lib\\site-packages\\sklearn\\linear_model\\coordinate_descent.py:475: ConvergenceWarning: Objective did not converge. You might want to increase the number of iterations. Duality gap: 30083.861401315466, tolerance: 19.964249748311826\n",
      "  positive)\n",
      "C:\\Users\\JohnDoe\\Anaconda3\\lib\\site-packages\\sklearn\\linear_model\\coordinate_descent.py:475: ConvergenceWarning: Objective did not converge. You might want to increase the number of iterations. Duality gap: 35155.89803054377, tolerance: 14.793313019928586\n",
      "  positive)\n",
      "C:\\Users\\JohnDoe\\Anaconda3\\lib\\site-packages\\sklearn\\linear_model\\coordinate_descent.py:475: ConvergenceWarning: Objective did not converge. You might want to increase the number of iterations. Duality gap: 45432.43015437834, tolerance: 19.964249748311826\n",
      "  positive)\n",
      "C:\\Users\\JohnDoe\\Anaconda3\\lib\\site-packages\\sklearn\\linear_model\\coordinate_descent.py:475: ConvergenceWarning: Objective did not converge. You might want to increase the number of iterations. Duality gap: 47292.973559052654, tolerance: 14.793313019928586\n",
      "  positive)\n",
      "C:\\Users\\JohnDoe\\Anaconda3\\lib\\site-packages\\sklearn\\linear_model\\coordinate_descent.py:475: ConvergenceWarning: Objective did not converge. You might want to increase the number of iterations. Duality gap: 61736.49123857653, tolerance: 19.964249748311826\n",
      "  positive)\n",
      "C:\\Users\\JohnDoe\\Anaconda3\\lib\\site-packages\\sklearn\\linear_model\\coordinate_descent.py:475: ConvergenceWarning: Objective did not converge. You might want to increase the number of iterations. Duality gap: 57481.54247850922, tolerance: 14.793313019928586\n",
      "  positive)\n",
      "C:\\Users\\JohnDoe\\Anaconda3\\lib\\site-packages\\sklearn\\linear_model\\coordinate_descent.py:475: ConvergenceWarning: Objective did not converge. You might want to increase the number of iterations. Duality gap: 75870.92293497981, tolerance: 19.964249748311826\n",
      "  positive)\n",
      "C:\\Users\\JohnDoe\\Anaconda3\\lib\\site-packages\\sklearn\\linear_model\\coordinate_descent.py:475: ConvergenceWarning: Objective did not converge. You might want to increase the number of iterations. Duality gap: 64598.36007693728, tolerance: 14.793313019928586\n",
      "  positive)\n",
      "C:\\Users\\JohnDoe\\Anaconda3\\lib\\site-packages\\sklearn\\linear_model\\coordinate_descent.py:475: ConvergenceWarning: Objective did not converge. You might want to increase the number of iterations. Duality gap: 86034.37109689384, tolerance: 19.964249748311826\n",
      "  positive)\n",
      "[Parallel(n_jobs=1)]: Done  36 out of  36 | elapsed:    0.3s finished\n"
     ]
    },
    {
     "name": "stdout",
     "output_type": "stream",
     "text": [
      "Fitting 2 folds for each of 18 candidates, totalling 36 fits\n"
     ]
    },
    {
     "name": "stderr",
     "output_type": "stream",
     "text": [
      "[Parallel(n_jobs=1)]: Using backend SequentialBackend with 1 concurrent workers.\n",
      "C:\\Users\\JohnDoe\\Anaconda3\\lib\\site-packages\\sklearn\\linear_model\\coordinate_descent.py:475: ConvergenceWarning: Objective did not converge. You might want to increase the number of iterations. Duality gap: 19127.50532050733, tolerance: 21.501159832406934\n",
      "  positive)\n",
      "C:\\Users\\JohnDoe\\Anaconda3\\lib\\site-packages\\sklearn\\linear_model\\coordinate_descent.py:475: ConvergenceWarning: Objective did not converge. You might want to increase the number of iterations. Duality gap: 14863.373522879914, tolerance: 16.05059708953268\n",
      "  positive)\n",
      "C:\\Users\\JohnDoe\\Anaconda3\\lib\\site-packages\\sklearn\\linear_model\\coordinate_descent.py:475: ConvergenceWarning: Objective did not converge. You might want to increase the number of iterations. Duality gap: 31343.065352299065, tolerance: 21.501159832406934\n",
      "  positive)\n",
      "C:\\Users\\JohnDoe\\Anaconda3\\lib\\site-packages\\sklearn\\linear_model\\coordinate_descent.py:475: ConvergenceWarning: Objective did not converge. You might want to increase the number of iterations. Duality gap: 24561.416671982377, tolerance: 16.05059708953268\n",
      "  positive)\n",
      "C:\\Users\\JohnDoe\\Anaconda3\\lib\\site-packages\\sklearn\\linear_model\\coordinate_descent.py:475: ConvergenceWarning: Objective did not converge. You might want to increase the number of iterations. Duality gap: 47120.78851051847, tolerance: 21.501159832406934\n",
      "  positive)\n",
      "C:\\Users\\JohnDoe\\Anaconda3\\lib\\site-packages\\sklearn\\linear_model\\coordinate_descent.py:475: ConvergenceWarning: Objective did not converge. You might want to increase the number of iterations. Duality gap: 36937.32403977508, tolerance: 16.05059708953268\n",
      "  positive)\n",
      "C:\\Users\\JohnDoe\\Anaconda3\\lib\\site-packages\\sklearn\\linear_model\\coordinate_descent.py:475: ConvergenceWarning: Objective did not converge. You might want to increase the number of iterations. Duality gap: 64345.315782912665, tolerance: 21.501159832406934\n",
      "  positive)\n",
      "C:\\Users\\JohnDoe\\Anaconda3\\lib\\site-packages\\sklearn\\linear_model\\coordinate_descent.py:475: ConvergenceWarning: Objective did not converge. You might want to increase the number of iterations. Duality gap: 50014.04265929086, tolerance: 16.05059708953268\n",
      "  positive)\n",
      "C:\\Users\\JohnDoe\\Anaconda3\\lib\\site-packages\\sklearn\\linear_model\\coordinate_descent.py:475: ConvergenceWarning: Objective did not converge. You might want to increase the number of iterations. Duality gap: 79837.27525293044, tolerance: 21.501159832406934\n",
      "  positive)\n",
      "C:\\Users\\JohnDoe\\Anaconda3\\lib\\site-packages\\sklearn\\linear_model\\coordinate_descent.py:475: ConvergenceWarning: Objective did not converge. You might want to increase the number of iterations. Duality gap: 61292.03139833158, tolerance: 16.05059708953268\n",
      "  positive)\n",
      "C:\\Users\\JohnDoe\\Anaconda3\\lib\\site-packages\\sklearn\\linear_model\\coordinate_descent.py:475: ConvergenceWarning: Objective did not converge. You might want to increase the number of iterations. Duality gap: 91349.84387446151, tolerance: 21.501159832406934\n",
      "  positive)\n",
      "C:\\Users\\JohnDoe\\Anaconda3\\lib\\site-packages\\sklearn\\linear_model\\coordinate_descent.py:475: ConvergenceWarning: Objective did not converge. You might want to increase the number of iterations. Duality gap: 69363.36927910542, tolerance: 16.05059708953268\n",
      "  positive)\n",
      "[Parallel(n_jobs=1)]: Done  36 out of  36 | elapsed:    0.3s finished\n",
      "[Parallel(n_jobs=1)]: Using backend SequentialBackend with 1 concurrent workers.\n"
     ]
    },
    {
     "name": "stdout",
     "output_type": "stream",
     "text": [
      "Fitting 2 folds for each of 18 candidates, totalling 36 fits\n"
     ]
    },
    {
     "name": "stderr",
     "output_type": "stream",
     "text": [
      "C:\\Users\\JohnDoe\\Anaconda3\\lib\\site-packages\\sklearn\\linear_model\\coordinate_descent.py:475: ConvergenceWarning: Objective did not converge. You might want to increase the number of iterations. Duality gap: 16783.628636963545, tolerance: 18.867808305158565\n",
      "  positive)\n",
      "C:\\Users\\JohnDoe\\Anaconda3\\lib\\site-packages\\sklearn\\linear_model\\coordinate_descent.py:475: ConvergenceWarning: Objective did not converge. You might want to increase the number of iterations. Duality gap: 22076.923978659295, tolerance: 23.361432525815307\n",
      "  positive)\n",
      "C:\\Users\\JohnDoe\\Anaconda3\\lib\\site-packages\\sklearn\\linear_model\\coordinate_descent.py:475: ConvergenceWarning: Objective did not converge. You might want to increase the number of iterations. Duality gap: 27887.340010219606, tolerance: 18.867808305158565\n",
      "  positive)\n",
      "C:\\Users\\JohnDoe\\Anaconda3\\lib\\site-packages\\sklearn\\linear_model\\coordinate_descent.py:475: ConvergenceWarning: Objective did not converge. You might want to increase the number of iterations. Duality gap: 36963.76356477664, tolerance: 23.361432525815307\n",
      "  positive)\n",
      "C:\\Users\\JohnDoe\\Anaconda3\\lib\\site-packages\\sklearn\\linear_model\\coordinate_descent.py:475: ConvergenceWarning: Objective did not converge. You might want to increase the number of iterations. Duality gap: 42274.059933452576, tolerance: 18.867808305158565\n",
      "  positive)\n",
      "C:\\Users\\JohnDoe\\Anaconda3\\lib\\site-packages\\sklearn\\linear_model\\coordinate_descent.py:475: ConvergenceWarning: Objective did not converge. You might want to increase the number of iterations. Duality gap: 55928.76754888853, tolerance: 23.361432525815307\n",
      "  positive)\n",
      "C:\\Users\\JohnDoe\\Anaconda3\\lib\\site-packages\\sklearn\\linear_model\\coordinate_descent.py:475: ConvergenceWarning: Objective did not converge. You might want to increase the number of iterations. Duality gap: 57712.06201679254, tolerance: 18.867808305158565\n",
      "  positive)\n",
      "C:\\Users\\JohnDoe\\Anaconda3\\lib\\site-packages\\sklearn\\linear_model\\coordinate_descent.py:475: ConvergenceWarning: Objective did not converge. You might want to increase the number of iterations. Duality gap: 75441.03964112312, tolerance: 23.361432525815307\n",
      "  positive)\n",
      "C:\\Users\\JohnDoe\\Anaconda3\\lib\\site-packages\\sklearn\\linear_model\\coordinate_descent.py:475: ConvergenceWarning: Objective did not converge. You might want to increase the number of iterations. Duality gap: 71209.78191176249, tolerance: 18.867808305158565\n",
      "  positive)\n",
      "C:\\Users\\JohnDoe\\Anaconda3\\lib\\site-packages\\sklearn\\linear_model\\coordinate_descent.py:475: ConvergenceWarning: Objective did not converge. You might want to increase the number of iterations. Duality gap: 91557.12606205377, tolerance: 23.361432525815307\n",
      "  positive)\n",
      "C:\\Users\\JohnDoe\\Anaconda3\\lib\\site-packages\\sklearn\\linear_model\\coordinate_descent.py:475: ConvergenceWarning: Objective did not converge. You might want to increase the number of iterations. Duality gap: 80981.41513784451, tolerance: 18.867808305158565\n",
      "  positive)\n",
      "C:\\Users\\JohnDoe\\Anaconda3\\lib\\site-packages\\sklearn\\linear_model\\coordinate_descent.py:475: ConvergenceWarning: Objective did not converge. You might want to increase the number of iterations. Duality gap: 102602.78240251562, tolerance: 23.361432525815307\n",
      "  positive)\n",
      "[Parallel(n_jobs=1)]: Done  36 out of  36 | elapsed:    0.2s finished\n",
      "[Parallel(n_jobs=1)]: Using backend SequentialBackend with 1 concurrent workers.\n",
      "[Parallel(n_jobs=1)]: Done   4 out of   4 | elapsed:    0.0s finished\n",
      "[Parallel(n_jobs=1)]: Using backend SequentialBackend with 1 concurrent workers.\n",
      "[Parallel(n_jobs=1)]: Done   4 out of   4 | elapsed:    0.0s finished\n",
      "[Parallel(n_jobs=1)]: Using backend SequentialBackend with 1 concurrent workers.\n"
     ]
    },
    {
     "name": "stdout",
     "output_type": "stream",
     "text": [
      "ElasticNet | nested RMSE -20.19450045888529 +/- 6.111026449098834\n",
      "starting repetition 2 with seed 1\n",
      "optimizing and evalutaing Dummy\n",
      "Fitting 2 folds for each of 2 candidates, totalling 4 fits\n",
      "Fitting 2 folds for each of 2 candidates, totalling 4 fits\n",
      "Fitting 2 folds for each of 2 candidates, totalling 4 fits\n",
      "Fitting 2 folds for each of 2 candidates, totalling 4 fits\n",
      "Fitting 2 folds for each of 2 candidates, totalling 4 fits\n",
      "Dummy | nested RMSE -489406.9154672835 +/- 155784.1759529381\n",
      "optimizing and evalutaing ElasticNet\n",
      "Fitting 2 folds for each of 18 candidates, totalling 36 fits\n"
     ]
    },
    {
     "name": "stderr",
     "output_type": "stream",
     "text": [
      "[Parallel(n_jobs=1)]: Done   4 out of   4 | elapsed:    0.0s finished\n",
      "[Parallel(n_jobs=1)]: Using backend SequentialBackend with 1 concurrent workers.\n",
      "[Parallel(n_jobs=1)]: Done   4 out of   4 | elapsed:    0.0s finished\n",
      "[Parallel(n_jobs=1)]: Using backend SequentialBackend with 1 concurrent workers.\n",
      "[Parallel(n_jobs=1)]: Done   4 out of   4 | elapsed:    0.0s finished\n",
      "[Parallel(n_jobs=1)]: Using backend SequentialBackend with 1 concurrent workers.\n",
      "C:\\Users\\JohnDoe\\Anaconda3\\lib\\site-packages\\sklearn\\linear_model\\coordinate_descent.py:475: ConvergenceWarning: Objective did not converge. You might want to increase the number of iterations. Duality gap: 13476.595992392884, tolerance: 13.100806209281199\n",
      "  positive)\n",
      "C:\\Users\\JohnDoe\\Anaconda3\\lib\\site-packages\\sklearn\\linear_model\\coordinate_descent.py:475: ConvergenceWarning: Objective did not converge. You might want to increase the number of iterations. Duality gap: 27201.22475551464, tolerance: 29.371378548585973\n",
      "  positive)\n",
      "C:\\Users\\JohnDoe\\Anaconda3\\lib\\site-packages\\sklearn\\linear_model\\coordinate_descent.py:475: ConvergenceWarning: Objective did not converge. You might want to increase the number of iterations. Duality gap: 22054.78844688741, tolerance: 13.100806209281199\n",
      "  positive)\n",
      "C:\\Users\\JohnDoe\\Anaconda3\\lib\\site-packages\\sklearn\\linear_model\\coordinate_descent.py:475: ConvergenceWarning: Objective did not converge. You might want to increase the number of iterations. Duality gap: 45390.54433980631, tolerance: 29.371378548585973\n",
      "  positive)\n",
      "C:\\Users\\JohnDoe\\Anaconda3\\lib\\site-packages\\sklearn\\linear_model\\coordinate_descent.py:475: ConvergenceWarning: Objective did not converge. You might want to increase the number of iterations. Duality gap: 32591.295365361402, tolerance: 13.100806209281199\n",
      "  positive)\n",
      "C:\\Users\\JohnDoe\\Anaconda3\\lib\\site-packages\\sklearn\\linear_model\\coordinate_descent.py:475: ConvergenceWarning: Objective did not converge. You might want to increase the number of iterations. Duality gap: 68653.966419945, tolerance: 29.371378548585973\n",
      "  positive)\n",
      "C:\\Users\\JohnDoe\\Anaconda3\\lib\\site-packages\\sklearn\\linear_model\\coordinate_descent.py:475: ConvergenceWarning: Objective did not converge. You might want to increase the number of iterations. Duality gap: 43165.3618282644, tolerance: 13.100806209281199\n",
      "  positive)\n",
      "C:\\Users\\JohnDoe\\Anaconda3\\lib\\site-packages\\sklearn\\linear_model\\coordinate_descent.py:475: ConvergenceWarning: Objective did not converge. You might want to increase the number of iterations. Duality gap: 92943.84966705932, tolerance: 29.371378548585973\n",
      "  positive)\n",
      "C:\\Users\\JohnDoe\\Anaconda3\\lib\\site-packages\\sklearn\\linear_model\\coordinate_descent.py:475: ConvergenceWarning: Objective did not converge. You might want to increase the number of iterations. Duality gap: 51826.462988187835, tolerance: 13.100806209281199\n",
      "  positive)\n",
      "C:\\Users\\JohnDoe\\Anaconda3\\lib\\site-packages\\sklearn\\linear_model\\coordinate_descent.py:475: ConvergenceWarning: Objective did not converge. You might want to increase the number of iterations. Duality gap: 113463.89366470091, tolerance: 29.371378548585973\n",
      "  positive)\n",
      "C:\\Users\\JohnDoe\\Anaconda3\\lib\\site-packages\\sklearn\\linear_model\\coordinate_descent.py:475: ConvergenceWarning: Objective did not converge. You might want to increase the number of iterations. Duality gap: 57778.112186274986, tolerance: 13.100806209281199\n",
      "  positive)\n",
      "C:\\Users\\JohnDoe\\Anaconda3\\lib\\site-packages\\sklearn\\linear_model\\coordinate_descent.py:475: ConvergenceWarning: Objective did not converge. You might want to increase the number of iterations. Duality gap: 127854.89809603411, tolerance: 29.371378548585973\n",
      "  positive)\n",
      "[Parallel(n_jobs=1)]: Done  36 out of  36 | elapsed:    0.2s finished\n",
      "[Parallel(n_jobs=1)]: Using backend SequentialBackend with 1 concurrent workers.\n"
     ]
    },
    {
     "name": "stdout",
     "output_type": "stream",
     "text": [
      "Fitting 2 folds for each of 18 candidates, totalling 36 fits\n"
     ]
    },
    {
     "name": "stderr",
     "output_type": "stream",
     "text": [
      "C:\\Users\\JohnDoe\\Anaconda3\\lib\\site-packages\\sklearn\\linear_model\\coordinate_descent.py:475: ConvergenceWarning: Objective did not converge. You might want to increase the number of iterations. Duality gap: 11745.717659336337, tolerance: 14.082704120246575\n",
      "  positive)\n",
      "C:\\Users\\JohnDoe\\Anaconda3\\lib\\site-packages\\sklearn\\linear_model\\coordinate_descent.py:475: ConvergenceWarning: Objective did not converge. You might want to increase the number of iterations. Duality gap: 22996.27001978326, tolerance: 23.471934530682987\n",
      "  positive)\n",
      "C:\\Users\\JohnDoe\\Anaconda3\\lib\\site-packages\\sklearn\\linear_model\\coordinate_descent.py:475: ConvergenceWarning: Objective did not converge. You might want to increase the number of iterations. Duality gap: 19500.572973394235, tolerance: 14.082704120246575\n",
      "  positive)\n",
      "C:\\Users\\JohnDoe\\Anaconda3\\lib\\site-packages\\sklearn\\linear_model\\coordinate_descent.py:475: ConvergenceWarning: Objective did not converge. You might want to increase the number of iterations. Duality gap: 38157.31969259314, tolerance: 23.471934530682987\n",
      "  positive)\n",
      "C:\\Users\\JohnDoe\\Anaconda3\\lib\\site-packages\\sklearn\\linear_model\\coordinate_descent.py:475: ConvergenceWarning: Objective did not converge. You might want to increase the number of iterations. Duality gap: 29830.5615629467, tolerance: 14.082704120246575\n",
      "  positive)\n",
      "C:\\Users\\JohnDoe\\Anaconda3\\lib\\site-packages\\sklearn\\linear_model\\coordinate_descent.py:475: ConvergenceWarning: Objective did not converge. You might want to increase the number of iterations. Duality gap: 57178.84198817531, tolerance: 23.471934530682987\n",
      "  positive)\n",
      "C:\\Users\\JohnDoe\\Anaconda3\\lib\\site-packages\\sklearn\\linear_model\\coordinate_descent.py:475: ConvergenceWarning: Objective did not converge. You might want to increase the number of iterations. Duality gap: 41362.731961844824, tolerance: 14.082704120246575\n",
      "  positive)\n",
      "C:\\Users\\JohnDoe\\Anaconda3\\lib\\site-packages\\sklearn\\linear_model\\coordinate_descent.py:475: ConvergenceWarning: Objective did not converge. You might want to increase the number of iterations. Duality gap: 76529.73696083514, tolerance: 23.471934530682987\n",
      "  positive)\n",
      "C:\\Users\\JohnDoe\\Anaconda3\\lib\\site-packages\\sklearn\\linear_model\\coordinate_descent.py:475: ConvergenceWarning: Objective did not converge. You might want to increase the number of iterations. Duality gap: 51820.81756982081, tolerance: 14.082704120246575\n",
      "  positive)\n",
      "C:\\Users\\JohnDoe\\Anaconda3\\lib\\site-packages\\sklearn\\linear_model\\coordinate_descent.py:475: ConvergenceWarning: Objective did not converge. You might want to increase the number of iterations. Duality gap: 92432.46391805586, tolerance: 23.471934530682987\n",
      "  positive)\n",
      "C:\\Users\\JohnDoe\\Anaconda3\\lib\\site-packages\\sklearn\\linear_model\\coordinate_descent.py:475: ConvergenceWarning: Objective did not converge. You might want to increase the number of iterations. Duality gap: 59585.36690474712, tolerance: 14.082704120246575\n",
      "  positive)\n",
      "C:\\Users\\JohnDoe\\Anaconda3\\lib\\site-packages\\sklearn\\linear_model\\coordinate_descent.py:475: ConvergenceWarning: Objective did not converge. You might want to increase the number of iterations. Duality gap: 103325.39735432337, tolerance: 23.471934530682987\n",
      "  positive)\n",
      "[Parallel(n_jobs=1)]: Done  36 out of  36 | elapsed:    0.2s finished\n",
      "[Parallel(n_jobs=1)]: Using backend SequentialBackend with 1 concurrent workers.\n",
      "C:\\Users\\JohnDoe\\Anaconda3\\lib\\site-packages\\sklearn\\linear_model\\coordinate_descent.py:475: ConvergenceWarning: Objective did not converge. You might want to increase the number of iterations. Duality gap: 15290.03871104246, tolerance: 17.037325038068595\n",
      "  positive)\n",
      "C:\\Users\\JohnDoe\\Anaconda3\\lib\\site-packages\\sklearn\\linear_model\\coordinate_descent.py:475: ConvergenceWarning: Objective did not converge. You might want to increase the number of iterations. Duality gap: 19531.917048252475, tolerance: 20.767564686139757\n",
      "  positive)\n",
      "C:\\Users\\JohnDoe\\Anaconda3\\lib\\site-packages\\sklearn\\linear_model\\coordinate_descent.py:475: ConvergenceWarning: Objective did not converge. You might want to increase the number of iterations. Duality gap: 25436.05779248185, tolerance: 17.037325038068595\n",
      "  positive)\n",
      "C:\\Users\\JohnDoe\\Anaconda3\\lib\\site-packages\\sklearn\\linear_model\\coordinate_descent.py:475: ConvergenceWarning: Objective did not converge. You might want to increase the number of iterations. Duality gap: 32126.62075707827, tolerance: 20.767564686139757\n",
      "  positive)\n",
      "C:\\Users\\JohnDoe\\Anaconda3\\lib\\site-packages\\sklearn\\linear_model\\coordinate_descent.py:475: ConvergenceWarning: Objective did not converge. You might want to increase the number of iterations. Duality gap: 38509.58113258546, tolerance: 17.037325038068595\n",
      "  positive)\n"
     ]
    },
    {
     "name": "stdout",
     "output_type": "stream",
     "text": [
      "Fitting 2 folds for each of 18 candidates, totalling 36 fits\n"
     ]
    },
    {
     "name": "stderr",
     "output_type": "stream",
     "text": [
      "C:\\Users\\JohnDoe\\Anaconda3\\lib\\site-packages\\sklearn\\linear_model\\coordinate_descent.py:475: ConvergenceWarning: Objective did not converge. You might want to increase the number of iterations. Duality gap: 48045.21854483622, tolerance: 20.767564686139757\n",
      "  positive)\n",
      "C:\\Users\\JohnDoe\\Anaconda3\\lib\\site-packages\\sklearn\\linear_model\\coordinate_descent.py:475: ConvergenceWarning: Objective did not converge. You might want to increase the number of iterations. Duality gap: 52451.1882794862, tolerance: 17.037325038068595\n",
      "  positive)\n",
      "C:\\Users\\JohnDoe\\Anaconda3\\lib\\site-packages\\sklearn\\linear_model\\coordinate_descent.py:475: ConvergenceWarning: Objective did not converge. You might want to increase the number of iterations. Duality gap: 64768.75498782247, tolerance: 20.767564686139757\n",
      "  positive)\n",
      "C:\\Users\\JohnDoe\\Anaconda3\\lib\\site-packages\\sklearn\\linear_model\\coordinate_descent.py:475: ConvergenceWarning: Objective did not converge. You might want to increase the number of iterations. Duality gap: 64577.17744198628, tolerance: 17.037325038068595\n",
      "  positive)\n",
      "C:\\Users\\JohnDoe\\Anaconda3\\lib\\site-packages\\sklearn\\linear_model\\coordinate_descent.py:475: ConvergenceWarning: Objective did not converge. You might want to increase the number of iterations. Duality gap: 79217.52658230715, tolerance: 20.767564686139757\n",
      "  positive)\n",
      "C:\\Users\\JohnDoe\\Anaconda3\\lib\\site-packages\\sklearn\\linear_model\\coordinate_descent.py:475: ConvergenceWarning: Objective did not converge. You might want to increase the number of iterations. Duality gap: 73315.3078140911, tolerance: 17.037325038068595\n",
      "  positive)\n",
      "C:\\Users\\JohnDoe\\Anaconda3\\lib\\site-packages\\sklearn\\linear_model\\coordinate_descent.py:475: ConvergenceWarning: Objective did not converge. You might want to increase the number of iterations. Duality gap: 89629.09022537168, tolerance: 20.767564686139757\n",
      "  positive)\n",
      "[Parallel(n_jobs=1)]: Done  36 out of  36 | elapsed:    0.2s finished\n"
     ]
    },
    {
     "name": "stdout",
     "output_type": "stream",
     "text": [
      "Fitting 2 folds for each of 18 candidates, totalling 36 fits\n"
     ]
    },
    {
     "name": "stderr",
     "output_type": "stream",
     "text": [
      "[Parallel(n_jobs=1)]: Using backend SequentialBackend with 1 concurrent workers.\n",
      "C:\\Users\\JohnDoe\\Anaconda3\\lib\\site-packages\\sklearn\\linear_model\\coordinate_descent.py:475: ConvergenceWarning: Objective did not converge. You might want to increase the number of iterations. Duality gap: 13874.205625489127, tolerance: 14.984468950924919\n",
      "  positive)\n",
      "C:\\Users\\JohnDoe\\Anaconda3\\lib\\site-packages\\sklearn\\linear_model\\coordinate_descent.py:475: ConvergenceWarning: Objective did not converge. You might want to increase the number of iterations. Duality gap: 17079.981743200402, tolerance: 17.70272031054237\n",
      "  positive)\n",
      "C:\\Users\\JohnDoe\\Anaconda3\\lib\\site-packages\\sklearn\\linear_model\\coordinate_descent.py:475: ConvergenceWarning: Objective did not converge. You might want to increase the number of iterations. Duality gap: 23140.17863216805, tolerance: 14.984468950924919\n",
      "  positive)\n",
      "C:\\Users\\JohnDoe\\Anaconda3\\lib\\site-packages\\sklearn\\linear_model\\coordinate_descent.py:475: ConvergenceWarning: Objective did not converge. You might want to increase the number of iterations. Duality gap: 28183.70034636848, tolerance: 17.70272031054237\n",
      "  positive)\n",
      "C:\\Users\\JohnDoe\\Anaconda3\\lib\\site-packages\\sklearn\\linear_model\\coordinate_descent.py:475: ConvergenceWarning: Objective did not converge. You might want to increase the number of iterations. Duality gap: 34971.34284226953, tolerance: 14.984468950924919\n",
      "  positive)\n",
      "C:\\Users\\JohnDoe\\Anaconda3\\lib\\site-packages\\sklearn\\linear_model\\coordinate_descent.py:475: ConvergenceWarning: Objective did not converge. You might want to increase the number of iterations. Duality gap: 42182.501566600935, tolerance: 17.70272031054237\n",
      "  positive)\n",
      "C:\\Users\\JohnDoe\\Anaconda3\\lib\\site-packages\\sklearn\\linear_model\\coordinate_descent.py:475: ConvergenceWarning: Objective did not converge. You might want to increase the number of iterations. Duality gap: 47311.4161187614, tolerance: 14.984468950924919\n",
      "  positive)\n",
      "C:\\Users\\JohnDoe\\Anaconda3\\lib\\site-packages\\sklearn\\linear_model\\coordinate_descent.py:475: ConvergenceWarning: Objective did not converge. You might want to increase the number of iterations. Duality gap: 56662.17046521659, tolerance: 17.70272031054237\n",
      "  positive)\n",
      "C:\\Users\\JohnDoe\\Anaconda3\\lib\\site-packages\\sklearn\\linear_model\\coordinate_descent.py:475: ConvergenceWarning: Objective did not converge. You might want to increase the number of iterations. Duality gap: 57755.22304514286, tolerance: 14.984468950924919\n",
      "  positive)\n",
      "C:\\Users\\JohnDoe\\Anaconda3\\lib\\site-packages\\sklearn\\linear_model\\coordinate_descent.py:475: ConvergenceWarning: Objective did not converge. You might want to increase the number of iterations. Duality gap: 68828.09771201378, tolerance: 17.70272031054237\n",
      "  positive)\n",
      "C:\\Users\\JohnDoe\\Anaconda3\\lib\\site-packages\\sklearn\\linear_model\\coordinate_descent.py:475: ConvergenceWarning: Objective did not converge. You might want to increase the number of iterations. Duality gap: 65115.23167111468, tolerance: 14.984468950924919\n",
      "  positive)\n",
      "C:\\Users\\JohnDoe\\Anaconda3\\lib\\site-packages\\sklearn\\linear_model\\coordinate_descent.py:475: ConvergenceWarning: Objective did not converge. You might want to increase the number of iterations. Duality gap: 77329.982027412, tolerance: 17.70272031054237\n",
      "  positive)\n",
      "[Parallel(n_jobs=1)]: Done  36 out of  36 | elapsed:    0.2s finished\n",
      "[Parallel(n_jobs=1)]: Using backend SequentialBackend with 1 concurrent workers.\n",
      "C:\\Users\\JohnDoe\\Anaconda3\\lib\\site-packages\\sklearn\\linear_model\\coordinate_descent.py:475: ConvergenceWarning: Objective did not converge. You might want to increase the number of iterations. Duality gap: 14470.65780009585, tolerance: 17.245521654969977\n",
      "  positive)\n",
      "C:\\Users\\JohnDoe\\Anaconda3\\lib\\site-packages\\sklearn\\linear_model\\coordinate_descent.py:475: ConvergenceWarning: Objective did not converge. You might want to increase the number of iterations. Duality gap: 20483.931097528446, tolerance: 22.091770396885504\n",
      "  positive)\n",
      "C:\\Users\\JohnDoe\\Anaconda3\\lib\\site-packages\\sklearn\\linear_model\\coordinate_descent.py:475: ConvergenceWarning: Objective did not converge. You might want to increase the number of iterations. Duality gap: 24220.30242510177, tolerance: 17.245521654969977\n",
      "  positive)\n",
      "C:\\Users\\JohnDoe\\Anaconda3\\lib\\site-packages\\sklearn\\linear_model\\coordinate_descent.py:475: ConvergenceWarning: Objective did not converge. You might want to increase the number of iterations. Duality gap: 33573.70297446001, tolerance: 22.091770396885504\n",
      "  positive)\n"
     ]
    },
    {
     "name": "stdout",
     "output_type": "stream",
     "text": [
      "Fitting 2 folds for each of 18 candidates, totalling 36 fits\n"
     ]
    },
    {
     "name": "stderr",
     "output_type": "stream",
     "text": [
      "C:\\Users\\JohnDoe\\Anaconda3\\lib\\site-packages\\sklearn\\linear_model\\coordinate_descent.py:475: ConvergenceWarning: Objective did not converge. You might want to increase the number of iterations. Duality gap: 37102.16192725286, tolerance: 17.245521654969977\n",
      "  positive)\n",
      "C:\\Users\\JohnDoe\\Anaconda3\\lib\\site-packages\\sklearn\\linear_model\\coordinate_descent.py:475: ConvergenceWarning: Objective did not converge. You might want to increase the number of iterations. Duality gap: 50299.91535223544, tolerance: 22.091770396885504\n",
      "  positive)\n",
      "C:\\Users\\JohnDoe\\Anaconda3\\lib\\site-packages\\sklearn\\linear_model\\coordinate_descent.py:475: ConvergenceWarning: Objective did not converge. You might want to increase the number of iterations. Duality gap: 51276.92523722313, tolerance: 17.245521654969977\n",
      "  positive)\n",
      "C:\\Users\\JohnDoe\\Anaconda3\\lib\\site-packages\\sklearn\\linear_model\\coordinate_descent.py:475: ConvergenceWarning: Objective did not converge. You might want to increase the number of iterations. Duality gap: 68153.16965807902, tolerance: 22.091770396885504\n",
      "  positive)\n",
      "C:\\Users\\JohnDoe\\Anaconda3\\lib\\site-packages\\sklearn\\linear_model\\coordinate_descent.py:475: ConvergenceWarning: Objective did not converge. You might want to increase the number of iterations. Duality gap: 63966.72812801928, tolerance: 17.245521654969977\n",
      "  positive)\n",
      "C:\\Users\\JohnDoe\\Anaconda3\\lib\\site-packages\\sklearn\\linear_model\\coordinate_descent.py:475: ConvergenceWarning: Objective did not converge. You might want to increase the number of iterations. Duality gap: 83755.18376666846, tolerance: 22.091770396885504\n",
      "  positive)\n",
      "C:\\Users\\JohnDoe\\Anaconda3\\lib\\site-packages\\sklearn\\linear_model\\coordinate_descent.py:475: ConvergenceWarning: Objective did not converge. You might want to increase the number of iterations. Duality gap: 73305.10310296208, tolerance: 17.245521654969977\n",
      "  positive)\n",
      "C:\\Users\\JohnDoe\\Anaconda3\\lib\\site-packages\\sklearn\\linear_model\\coordinate_descent.py:475: ConvergenceWarning: Objective did not converge. You might want to increase the number of iterations. Duality gap: 95048.64480494647, tolerance: 22.091770396885504\n",
      "  positive)\n",
      "[Parallel(n_jobs=1)]: Done  36 out of  36 | elapsed:    0.2s finished\n",
      "[Parallel(n_jobs=1)]: Using backend SequentialBackend with 1 concurrent workers.\n",
      "[Parallel(n_jobs=1)]: Done   4 out of   4 | elapsed:    0.0s finished\n",
      "[Parallel(n_jobs=1)]: Using backend SequentialBackend with 1 concurrent workers.\n",
      "[Parallel(n_jobs=1)]: Done   4 out of   4 | elapsed:    0.0s finished\n",
      "[Parallel(n_jobs=1)]: Using backend SequentialBackend with 1 concurrent workers.\n",
      "[Parallel(n_jobs=1)]: Done   4 out of   4 | elapsed:    0.0s finished\n",
      "[Parallel(n_jobs=1)]: Using backend SequentialBackend with 1 concurrent workers.\n",
      "[Parallel(n_jobs=1)]: Done   4 out of   4 | elapsed:    0.0s finished\n",
      "[Parallel(n_jobs=1)]: Using backend SequentialBackend with 1 concurrent workers.\n",
      "[Parallel(n_jobs=1)]: Done   4 out of   4 | elapsed:    0.0s finished\n",
      "[Parallel(n_jobs=1)]: Using backend SequentialBackend with 1 concurrent workers.\n"
     ]
    },
    {
     "name": "stdout",
     "output_type": "stream",
     "text": [
      "ElasticNet | nested RMSE -19.791551096905316 +/- 2.3265229072133344\n",
      "running comparison of LinearSVR and Dummy\n",
      "starting repetition 1 with seed 0\n",
      "optimizing and evalutaing Dummy\n",
      "Fitting 2 folds for each of 2 candidates, totalling 4 fits\n",
      "Fitting 2 folds for each of 2 candidates, totalling 4 fits\n",
      "Fitting 2 folds for each of 2 candidates, totalling 4 fits\n",
      "Fitting 2 folds for each of 2 candidates, totalling 4 fits\n",
      "Fitting 2 folds for each of 2 candidates, totalling 4 fits\n",
      "Dummy | nested RMSE -481902.0592054449 +/- 121624.12474218727\n",
      "optimizing and evalutaing LinearSVR\n",
      "Fitting 2 folds for each of 8 candidates, totalling 16 fits\n"
     ]
    },
    {
     "name": "stderr",
     "output_type": "stream",
     "text": [
      "[Parallel(n_jobs=1)]: Done  16 out of  16 | elapsed:    0.0s finished\n",
      "[Parallel(n_jobs=1)]: Using backend SequentialBackend with 1 concurrent workers.\n",
      "[Parallel(n_jobs=1)]: Done  16 out of  16 | elapsed:    0.0s finished\n",
      "[Parallel(n_jobs=1)]: Using backend SequentialBackend with 1 concurrent workers.\n",
      "[Parallel(n_jobs=1)]: Done  16 out of  16 | elapsed:    0.0s finished\n"
     ]
    },
    {
     "name": "stdout",
     "output_type": "stream",
     "text": [
      "Fitting 2 folds for each of 8 candidates, totalling 16 fits\n",
      "Fitting 2 folds for each of 8 candidates, totalling 16 fits\n",
      "Fitting 2 folds for each of 8 candidates, totalling 16 fits\n",
      "Fitting 2 folds for each of 8 candidates, totalling 16 fits\n",
      "LinearSVR | nested RMSE -3.108811385763297e-08 +/- 3.556531378774109e-08\n"
     ]
    },
    {
     "name": "stderr",
     "output_type": "stream",
     "text": [
      "[Parallel(n_jobs=1)]: Using backend SequentialBackend with 1 concurrent workers.\n",
      "[Parallel(n_jobs=1)]: Done  16 out of  16 | elapsed:    0.0s finished\n",
      "[Parallel(n_jobs=1)]: Using backend SequentialBackend with 1 concurrent workers.\n",
      "[Parallel(n_jobs=1)]: Done  16 out of  16 | elapsed:    0.0s finished\n"
     ]
    },
    {
     "name": "stdout",
     "output_type": "stream",
     "text": [
      "starting repetition 2 with seed 1\n",
      "optimizing and evalutaing Dummy\n",
      "Fitting 2 folds for each of 2 candidates, totalling 4 fits\n",
      "Fitting 2 folds for each of 2 candidates, totalling 4 fits\n",
      "Fitting 2 folds for each of 2 candidates, totalling 4 fits\n",
      "Fitting 2 folds for each of 2 candidates, totalling 4 fits\n",
      "Fitting 2 folds for each of 2 candidates, totalling 4 fits\n",
      "Dummy | nested RMSE -489406.9154672835 +/- 155784.1759529381\n",
      "optimizing and evalutaing LinearSVR\n",
      "Fitting 2 folds for each of 8 candidates, totalling 16 fits\n"
     ]
    },
    {
     "name": "stderr",
     "output_type": "stream",
     "text": [
      "[Parallel(n_jobs=1)]: Using backend SequentialBackend with 1 concurrent workers.\n",
      "[Parallel(n_jobs=1)]: Done   4 out of   4 | elapsed:    0.0s finished\n",
      "[Parallel(n_jobs=1)]: Using backend SequentialBackend with 1 concurrent workers.\n",
      "[Parallel(n_jobs=1)]: Done   4 out of   4 | elapsed:    0.0s finished\n",
      "[Parallel(n_jobs=1)]: Using backend SequentialBackend with 1 concurrent workers.\n",
      "[Parallel(n_jobs=1)]: Done   4 out of   4 | elapsed:    0.0s finished\n",
      "[Parallel(n_jobs=1)]: Using backend SequentialBackend with 1 concurrent workers.\n",
      "[Parallel(n_jobs=1)]: Done   4 out of   4 | elapsed:    0.0s finished\n",
      "[Parallel(n_jobs=1)]: Using backend SequentialBackend with 1 concurrent workers.\n",
      "[Parallel(n_jobs=1)]: Done   4 out of   4 | elapsed:    0.0s finished\n",
      "[Parallel(n_jobs=1)]: Using backend SequentialBackend with 1 concurrent workers.\n",
      "[Parallel(n_jobs=1)]: Done  16 out of  16 | elapsed:    0.0s finished\n"
     ]
    },
    {
     "name": "stdout",
     "output_type": "stream",
     "text": [
      "Fitting 2 folds for each of 8 candidates, totalling 16 fits\n",
      "Fitting 2 folds for each of 8 candidates, totalling 16 fits\n"
     ]
    },
    {
     "name": "stderr",
     "output_type": "stream",
     "text": [
      "[Parallel(n_jobs=1)]: Using backend SequentialBackend with 1 concurrent workers.\n",
      "[Parallel(n_jobs=1)]: Done  16 out of  16 | elapsed:    0.0s finished\n",
      "[Parallel(n_jobs=1)]: Using backend SequentialBackend with 1 concurrent workers.\n",
      "[Parallel(n_jobs=1)]: Done  16 out of  16 | elapsed:    0.0s finished\n",
      "[Parallel(n_jobs=1)]: Using backend SequentialBackend with 1 concurrent workers.\n",
      "[Parallel(n_jobs=1)]: Done  16 out of  16 | elapsed:    0.0s finished\n",
      "[Parallel(n_jobs=1)]: Using backend SequentialBackend with 1 concurrent workers.\n",
      "[Parallel(n_jobs=1)]: Done  16 out of  16 | elapsed:    0.0s finished\n"
     ]
    },
    {
     "name": "stdout",
     "output_type": "stream",
     "text": [
      "Fitting 2 folds for each of 8 candidates, totalling 16 fits\n",
      "Fitting 2 folds for each of 8 candidates, totalling 16 fits\n",
      "LinearSVR | nested RMSE -3.6554872724119323e-09 +/- 5.65025572759494e-09\n",
      "running comparison of ElasticNet and LinearSVR\n",
      "starting repetition 1 with seed 0\n",
      "optimizing and evalutaing ElasticNet\n",
      "Fitting 2 folds for each of 18 candidates, totalling 36 fits"
     ]
    },
    {
     "name": "stderr",
     "output_type": "stream",
     "text": [
      "[Parallel(n_jobs=1)]: Using backend SequentialBackend with 1 concurrent workers.\n",
      "C:\\Users\\JohnDoe\\Anaconda3\\lib\\site-packages\\sklearn\\linear_model\\coordinate_descent.py:475: ConvergenceWarning: Objective did not converge. You might want to increase the number of iterations. Duality gap: 15998.916629309182, tolerance: 16.2549128595671\n",
      "  positive)\n",
      "C:\\Users\\JohnDoe\\Anaconda3\\lib\\site-packages\\sklearn\\linear_model\\coordinate_descent.py:475: ConvergenceWarning: Objective did not converge. You might want to increase the number of iterations. Duality gap: 19544.097277662462, tolerance: 20.995623730113493\n",
      "  positive)\n",
      "C:\\Users\\JohnDoe\\Anaconda3\\lib\\site-packages\\sklearn\\linear_model\\coordinate_descent.py:475: ConvergenceWarning: Objective did not converge. You might want to increase the number of iterations. Duality gap: 26314.777947651015, tolerance: 16.2549128595671\n",
      "  positive)\n",
      "C:\\Users\\JohnDoe\\Anaconda3\\lib\\site-packages\\sklearn\\linear_model\\coordinate_descent.py:475: ConvergenceWarning: Objective did not converge. You might want to increase the number of iterations. Duality gap: 31950.309412409184, tolerance: 20.995623730113493\n",
      "  positive)\n",
      "C:\\Users\\JohnDoe\\Anaconda3\\lib\\site-packages\\sklearn\\linear_model\\coordinate_descent.py:475: ConvergenceWarning: Objective did not converge. You might want to increase the number of iterations. Duality gap: 39239.70496581393, tolerance: 16.2549128595671\n",
      "  positive)\n",
      "C:\\Users\\JohnDoe\\Anaconda3\\lib\\site-packages\\sklearn\\linear_model\\coordinate_descent.py:475: ConvergenceWarning: Objective did not converge. You might want to increase the number of iterations. Duality gap: 47739.948211349154, tolerance: 20.995623730113493\n",
      "  positive)\n",
      "C:\\Users\\JohnDoe\\Anaconda3\\lib\\site-packages\\sklearn\\linear_model\\coordinate_descent.py:475: ConvergenceWarning: Objective did not converge. You might want to increase the number of iterations. Duality gap: 52504.13063562677, tolerance: 16.2549128595671\n",
      "  positive)\n",
      "C:\\Users\\JohnDoe\\Anaconda3\\lib\\site-packages\\sklearn\\linear_model\\coordinate_descent.py:475: ConvergenceWarning: Objective did not converge. You might want to increase the number of iterations. Duality gap: 64606.720144675535, tolerance: 20.995623730113493\n",
      "  positive)\n",
      "C:\\Users\\JohnDoe\\Anaconda3\\lib\\site-packages\\sklearn\\linear_model\\coordinate_descent.py:475: ConvergenceWarning: Objective did not converge. You might want to increase the number of iterations. Duality gap: 63559.38779748323, tolerance: 16.2549128595671\n",
      "  positive)\n",
      "C:\\Users\\JohnDoe\\Anaconda3\\lib\\site-packages\\sklearn\\linear_model\\coordinate_descent.py:475: ConvergenceWarning: Objective did not converge. You might want to increase the number of iterations. Duality gap: 79417.92873274123, tolerance: 20.995623730113493\n",
      "  positive)\n"
     ]
    },
    {
     "name": "stdout",
     "output_type": "stream",
     "text": [
      "\n"
     ]
    },
    {
     "name": "stderr",
     "output_type": "stream",
     "text": [
      "C:\\Users\\JohnDoe\\Anaconda3\\lib\\site-packages\\sklearn\\linear_model\\coordinate_descent.py:475: ConvergenceWarning: Objective did not converge. You might want to increase the number of iterations. Duality gap: 71235.70464482372, tolerance: 16.2549128595671\n",
      "  positive)\n",
      "C:\\Users\\JohnDoe\\Anaconda3\\lib\\site-packages\\sklearn\\linear_model\\coordinate_descent.py:475: ConvergenceWarning: Objective did not converge. You might want to increase the number of iterations. Duality gap: 90195.14424665447, tolerance: 20.995623730113493\n",
      "  positive)\n",
      "[Parallel(n_jobs=1)]: Done  36 out of  36 | elapsed:    0.1s finished\n",
      "[Parallel(n_jobs=1)]: Using backend SequentialBackend with 1 concurrent workers.\n",
      "C:\\Users\\JohnDoe\\Anaconda3\\lib\\site-packages\\sklearn\\linear_model\\coordinate_descent.py:475: ConvergenceWarning: Objective did not converge. You might want to increase the number of iterations. Duality gap: 17098.57620346353, tolerance: 19.766591992472062\n",
      "  positive)\n",
      "C:\\Users\\JohnDoe\\Anaconda3\\lib\\site-packages\\sklearn\\linear_model\\coordinate_descent.py:475: ConvergenceWarning: Objective did not converge. You might want to increase the number of iterations. Duality gap: 17572.649008250333, tolerance: 18.661558656795943\n",
      "  positive)\n",
      "C:\\Users\\JohnDoe\\Anaconda3\\lib\\site-packages\\sklearn\\linear_model\\coordinate_descent.py:475: ConvergenceWarning: Objective did not converge. You might want to increase the number of iterations. Duality gap: 28622.45520291877, tolerance: 19.766591992472062\n",
      "  positive)\n",
      "C:\\Users\\JohnDoe\\Anaconda3\\lib\\site-packages\\sklearn\\linear_model\\coordinate_descent.py:475: ConvergenceWarning: Objective did not converge. You might want to increase the number of iterations. Duality gap: 29108.872852070344, tolerance: 18.661558656795943\n",
      "  positive)\n",
      "C:\\Users\\JohnDoe\\Anaconda3\\lib\\site-packages\\sklearn\\linear_model\\coordinate_descent.py:475: ConvergenceWarning: Objective did not converge. You might want to increase the number of iterations. Duality gap: 43658.39832124989, tolerance: 19.766591992472062\n",
      "  positive)\n"
     ]
    },
    {
     "name": "stdout",
     "output_type": "stream",
     "text": [
      "Fitting 2 folds for each of 18 candidates, totalling 36 fits\n"
     ]
    },
    {
     "name": "stderr",
     "output_type": "stream",
     "text": [
      "C:\\Users\\JohnDoe\\Anaconda3\\lib\\site-packages\\sklearn\\linear_model\\coordinate_descent.py:475: ConvergenceWarning: Objective did not converge. You might want to increase the number of iterations. Duality gap: 43774.47006068312, tolerance: 18.661558656795943\n",
      "  positive)\n",
      "C:\\Users\\JohnDoe\\Anaconda3\\lib\\site-packages\\sklearn\\linear_model\\coordinate_descent.py:475: ConvergenceWarning: Objective did not converge. You might want to increase the number of iterations. Duality gap: 59897.53423656242, tolerance: 19.766591992472062\n",
      "  positive)\n",
      "C:\\Users\\JohnDoe\\Anaconda3\\lib\\site-packages\\sklearn\\linear_model\\coordinate_descent.py:475: ConvergenceWarning: Objective did not converge. You might want to increase the number of iterations. Duality gap: 59079.084553206994, tolerance: 18.661558656795943\n",
      "  positive)\n",
      "C:\\Users\\JohnDoe\\Anaconda3\\lib\\site-packages\\sklearn\\linear_model\\coordinate_descent.py:475: ConvergenceWarning: Objective did not converge. You might want to increase the number of iterations. Duality gap: 74182.63609581432, tolerance: 19.766591992472062\n",
      "  positive)\n",
      "C:\\Users\\JohnDoe\\Anaconda3\\lib\\site-packages\\sklearn\\linear_model\\coordinate_descent.py:475: ConvergenceWarning: Objective did not converge. You might want to increase the number of iterations. Duality gap: 72049.94818043415, tolerance: 18.661558656795943\n",
      "  positive)\n",
      "C:\\Users\\JohnDoe\\Anaconda3\\lib\\site-packages\\sklearn\\linear_model\\coordinate_descent.py:475: ConvergenceWarning: Objective did not converge. You might want to increase the number of iterations. Duality gap: 84572.5423513875, tolerance: 19.766591992472062\n",
      "  positive)\n",
      "C:\\Users\\JohnDoe\\Anaconda3\\lib\\site-packages\\sklearn\\linear_model\\coordinate_descent.py:475: ConvergenceWarning: Objective did not converge. You might want to increase the number of iterations. Duality gap: 81184.50226751037, tolerance: 18.661558656795943\n",
      "  positive)\n",
      "[Parallel(n_jobs=1)]: Done  36 out of  36 | elapsed:    0.1s finished\n",
      "[Parallel(n_jobs=1)]: Using backend SequentialBackend with 1 concurrent workers.\n",
      "C:\\Users\\JohnDoe\\Anaconda3\\lib\\site-packages\\sklearn\\linear_model\\coordinate_descent.py:475: ConvergenceWarning: Objective did not converge. You might want to increase the number of iterations. Duality gap: 14161.972537958327, tolerance: 14.793313019928586\n",
      "  positive)\n",
      "C:\\Users\\JohnDoe\\Anaconda3\\lib\\site-packages\\sklearn\\linear_model\\coordinate_descent.py:475: ConvergenceWarning: Objective did not converge. You might want to increase the number of iterations. Duality gap: 18125.574961077487, tolerance: 19.964249748311826\n",
      "  positive)\n",
      "C:\\Users\\JohnDoe\\Anaconda3\\lib\\site-packages\\sklearn\\linear_model\\coordinate_descent.py:475: ConvergenceWarning: Objective did not converge. You might want to increase the number of iterations. Duality gap: 23429.870877003043, tolerance: 14.793313019928586\n",
      "  positive)\n"
     ]
    },
    {
     "name": "stdout",
     "output_type": "stream",
     "text": [
      "Fitting 2 folds for each of 18 candidates, totalling 36 fits\n"
     ]
    },
    {
     "name": "stderr",
     "output_type": "stream",
     "text": [
      "C:\\Users\\JohnDoe\\Anaconda3\\lib\\site-packages\\sklearn\\linear_model\\coordinate_descent.py:475: ConvergenceWarning: Objective did not converge. You might want to increase the number of iterations. Duality gap: 30083.861401315466, tolerance: 19.964249748311826\n",
      "  positive)\n",
      "C:\\Users\\JohnDoe\\Anaconda3\\lib\\site-packages\\sklearn\\linear_model\\coordinate_descent.py:475: ConvergenceWarning: Objective did not converge. You might want to increase the number of iterations. Duality gap: 35155.89803054377, tolerance: 14.793313019928586\n",
      "  positive)\n",
      "C:\\Users\\JohnDoe\\Anaconda3\\lib\\site-packages\\sklearn\\linear_model\\coordinate_descent.py:475: ConvergenceWarning: Objective did not converge. You might want to increase the number of iterations. Duality gap: 45432.43015437834, tolerance: 19.964249748311826\n",
      "  positive)\n",
      "C:\\Users\\JohnDoe\\Anaconda3\\lib\\site-packages\\sklearn\\linear_model\\coordinate_descent.py:475: ConvergenceWarning: Objective did not converge. You might want to increase the number of iterations. Duality gap: 47292.973559052654, tolerance: 14.793313019928586\n",
      "  positive)\n",
      "C:\\Users\\JohnDoe\\Anaconda3\\lib\\site-packages\\sklearn\\linear_model\\coordinate_descent.py:475: ConvergenceWarning: Objective did not converge. You might want to increase the number of iterations. Duality gap: 61736.49123857653, tolerance: 19.964249748311826\n",
      "  positive)\n",
      "C:\\Users\\JohnDoe\\Anaconda3\\lib\\site-packages\\sklearn\\linear_model\\coordinate_descent.py:475: ConvergenceWarning: Objective did not converge. You might want to increase the number of iterations. Duality gap: 57481.54247850922, tolerance: 14.793313019928586\n",
      "  positive)\n",
      "C:\\Users\\JohnDoe\\Anaconda3\\lib\\site-packages\\sklearn\\linear_model\\coordinate_descent.py:475: ConvergenceWarning: Objective did not converge. You might want to increase the number of iterations. Duality gap: 75870.92293497981, tolerance: 19.964249748311826\n",
      "  positive)\n",
      "C:\\Users\\JohnDoe\\Anaconda3\\lib\\site-packages\\sklearn\\linear_model\\coordinate_descent.py:475: ConvergenceWarning: Objective did not converge. You might want to increase the number of iterations. Duality gap: 64598.36007693728, tolerance: 14.793313019928586\n",
      "  positive)\n",
      "C:\\Users\\JohnDoe\\Anaconda3\\lib\\site-packages\\sklearn\\linear_model\\coordinate_descent.py:475: ConvergenceWarning: Objective did not converge. You might want to increase the number of iterations. Duality gap: 86034.37109689384, tolerance: 19.964249748311826\n",
      "  positive)\n",
      "[Parallel(n_jobs=1)]: Done  36 out of  36 | elapsed:    0.1s finished\n",
      "[Parallel(n_jobs=1)]: Using backend SequentialBackend with 1 concurrent workers.\n"
     ]
    },
    {
     "name": "stdout",
     "output_type": "stream",
     "text": [
      "Fitting 2 folds for each of 18 candidates, totalling 36 fits\n"
     ]
    },
    {
     "name": "stderr",
     "output_type": "stream",
     "text": [
      "C:\\Users\\JohnDoe\\Anaconda3\\lib\\site-packages\\sklearn\\linear_model\\coordinate_descent.py:475: ConvergenceWarning: Objective did not converge. You might want to increase the number of iterations. Duality gap: 19127.50532050733, tolerance: 21.501159832406934\n",
      "  positive)\n",
      "C:\\Users\\JohnDoe\\Anaconda3\\lib\\site-packages\\sklearn\\linear_model\\coordinate_descent.py:475: ConvergenceWarning: Objective did not converge. You might want to increase the number of iterations. Duality gap: 14863.373522879914, tolerance: 16.05059708953268\n",
      "  positive)\n",
      "C:\\Users\\JohnDoe\\Anaconda3\\lib\\site-packages\\sklearn\\linear_model\\coordinate_descent.py:475: ConvergenceWarning: Objective did not converge. You might want to increase the number of iterations. Duality gap: 31343.065352299065, tolerance: 21.501159832406934\n",
      "  positive)\n",
      "C:\\Users\\JohnDoe\\Anaconda3\\lib\\site-packages\\sklearn\\linear_model\\coordinate_descent.py:475: ConvergenceWarning: Objective did not converge. You might want to increase the number of iterations. Duality gap: 24561.416671982377, tolerance: 16.05059708953268\n",
      "  positive)\n",
      "C:\\Users\\JohnDoe\\Anaconda3\\lib\\site-packages\\sklearn\\linear_model\\coordinate_descent.py:475: ConvergenceWarning: Objective did not converge. You might want to increase the number of iterations. Duality gap: 47120.78851051847, tolerance: 21.501159832406934\n",
      "  positive)\n",
      "C:\\Users\\JohnDoe\\Anaconda3\\lib\\site-packages\\sklearn\\linear_model\\coordinate_descent.py:475: ConvergenceWarning: Objective did not converge. You might want to increase the number of iterations. Duality gap: 36937.32403977508, tolerance: 16.05059708953268\n",
      "  positive)\n",
      "C:\\Users\\JohnDoe\\Anaconda3\\lib\\site-packages\\sklearn\\linear_model\\coordinate_descent.py:475: ConvergenceWarning: Objective did not converge. You might want to increase the number of iterations. Duality gap: 64345.315782912665, tolerance: 21.501159832406934\n",
      "  positive)\n",
      "C:\\Users\\JohnDoe\\Anaconda3\\lib\\site-packages\\sklearn\\linear_model\\coordinate_descent.py:475: ConvergenceWarning: Objective did not converge. You might want to increase the number of iterations. Duality gap: 50014.04265929086, tolerance: 16.05059708953268\n",
      "  positive)\n",
      "C:\\Users\\JohnDoe\\Anaconda3\\lib\\site-packages\\sklearn\\linear_model\\coordinate_descent.py:475: ConvergenceWarning: Objective did not converge. You might want to increase the number of iterations. Duality gap: 79837.27525293044, tolerance: 21.501159832406934\n",
      "  positive)\n",
      "C:\\Users\\JohnDoe\\Anaconda3\\lib\\site-packages\\sklearn\\linear_model\\coordinate_descent.py:475: ConvergenceWarning: Objective did not converge. You might want to increase the number of iterations. Duality gap: 61292.03139833158, tolerance: 16.05059708953268\n",
      "  positive)\n",
      "C:\\Users\\JohnDoe\\Anaconda3\\lib\\site-packages\\sklearn\\linear_model\\coordinate_descent.py:475: ConvergenceWarning: Objective did not converge. You might want to increase the number of iterations. Duality gap: 91349.84387446151, tolerance: 21.501159832406934\n",
      "  positive)\n",
      "C:\\Users\\JohnDoe\\Anaconda3\\lib\\site-packages\\sklearn\\linear_model\\coordinate_descent.py:475: ConvergenceWarning: Objective did not converge. You might want to increase the number of iterations. Duality gap: 69363.36927910542, tolerance: 16.05059708953268\n",
      "  positive)\n",
      "[Parallel(n_jobs=1)]: Done  36 out of  36 | elapsed:    0.2s finished\n",
      "[Parallel(n_jobs=1)]: Using backend SequentialBackend with 1 concurrent workers.\n",
      "C:\\Users\\JohnDoe\\Anaconda3\\lib\\site-packages\\sklearn\\linear_model\\coordinate_descent.py:475: ConvergenceWarning: Objective did not converge. You might want to increase the number of iterations. Duality gap: 16783.628636963545, tolerance: 18.867808305158565\n",
      "  positive)\n",
      "C:\\Users\\JohnDoe\\Anaconda3\\lib\\site-packages\\sklearn\\linear_model\\coordinate_descent.py:475: ConvergenceWarning: Objective did not converge. You might want to increase the number of iterations. Duality gap: 22076.923978659295, tolerance: 23.361432525815307\n",
      "  positive)\n",
      "C:\\Users\\JohnDoe\\Anaconda3\\lib\\site-packages\\sklearn\\linear_model\\coordinate_descent.py:475: ConvergenceWarning: Objective did not converge. You might want to increase the number of iterations. Duality gap: 27887.340010219606, tolerance: 18.867808305158565\n",
      "  positive)\n",
      "C:\\Users\\JohnDoe\\Anaconda3\\lib\\site-packages\\sklearn\\linear_model\\coordinate_descent.py:475: ConvergenceWarning: Objective did not converge. You might want to increase the number of iterations. Duality gap: 36963.76356477664, tolerance: 23.361432525815307\n",
      "  positive)\n",
      "C:\\Users\\JohnDoe\\Anaconda3\\lib\\site-packages\\sklearn\\linear_model\\coordinate_descent.py:475: ConvergenceWarning: Objective did not converge. You might want to increase the number of iterations. Duality gap: 42274.059933452576, tolerance: 18.867808305158565\n",
      "  positive)\n",
      "C:\\Users\\JohnDoe\\Anaconda3\\lib\\site-packages\\sklearn\\linear_model\\coordinate_descent.py:475: ConvergenceWarning: Objective did not converge. You might want to increase the number of iterations. Duality gap: 55928.76754888853, tolerance: 23.361432525815307\n",
      "  positive)\n",
      "C:\\Users\\JohnDoe\\Anaconda3\\lib\\site-packages\\sklearn\\linear_model\\coordinate_descent.py:475: ConvergenceWarning: Objective did not converge. You might want to increase the number of iterations. Duality gap: 57712.06201679254, tolerance: 18.867808305158565\n",
      "  positive)\n",
      "C:\\Users\\JohnDoe\\Anaconda3\\lib\\site-packages\\sklearn\\linear_model\\coordinate_descent.py:475: ConvergenceWarning: Objective did not converge. You might want to increase the number of iterations. Duality gap: 75441.03964112312, tolerance: 23.361432525815307\n",
      "  positive)\n"
     ]
    },
    {
     "name": "stdout",
     "output_type": "stream",
     "text": [
      "Fitting 2 folds for each of 18 candidates, totalling 36 fits\n"
     ]
    },
    {
     "name": "stderr",
     "output_type": "stream",
     "text": [
      "C:\\Users\\JohnDoe\\Anaconda3\\lib\\site-packages\\sklearn\\linear_model\\coordinate_descent.py:475: ConvergenceWarning: Objective did not converge. You might want to increase the number of iterations. Duality gap: 71209.78191176249, tolerance: 18.867808305158565\n",
      "  positive)\n",
      "C:\\Users\\JohnDoe\\Anaconda3\\lib\\site-packages\\sklearn\\linear_model\\coordinate_descent.py:475: ConvergenceWarning: Objective did not converge. You might want to increase the number of iterations. Duality gap: 91557.12606205377, tolerance: 23.361432525815307\n",
      "  positive)\n",
      "C:\\Users\\JohnDoe\\Anaconda3\\lib\\site-packages\\sklearn\\linear_model\\coordinate_descent.py:475: ConvergenceWarning: Objective did not converge. You might want to increase the number of iterations. Duality gap: 80981.41513784451, tolerance: 18.867808305158565\n",
      "  positive)\n",
      "C:\\Users\\JohnDoe\\Anaconda3\\lib\\site-packages\\sklearn\\linear_model\\coordinate_descent.py:475: ConvergenceWarning: Objective did not converge. You might want to increase the number of iterations. Duality gap: 102602.78240251562, tolerance: 23.361432525815307\n",
      "  positive)\n",
      "[Parallel(n_jobs=1)]: Done  36 out of  36 | elapsed:    0.1s finished\n",
      "[Parallel(n_jobs=1)]: Using backend SequentialBackend with 1 concurrent workers.\n",
      "[Parallel(n_jobs=1)]: Done  16 out of  16 | elapsed:    0.0s finished\n",
      "[Parallel(n_jobs=1)]: Using backend SequentialBackend with 1 concurrent workers.\n"
     ]
    },
    {
     "name": "stdout",
     "output_type": "stream",
     "text": [
      "ElasticNet | nested RMSE -20.19450045888529 +/- 6.111026449098834\n",
      "optimizing and evalutaing LinearSVR\n",
      "Fitting 2 folds for each of 8 candidates, totalling 16 fits\n",
      "Fitting 2 folds for each of 8 candidates, totalling 16 fits\n",
      "Fitting 2 folds for each of 8 candidates, totalling 16 fits\n"
     ]
    },
    {
     "name": "stderr",
     "output_type": "stream",
     "text": [
      "[Parallel(n_jobs=1)]: Done  16 out of  16 | elapsed:    0.0s finished\n",
      "[Parallel(n_jobs=1)]: Using backend SequentialBackend with 1 concurrent workers.\n",
      "[Parallel(n_jobs=1)]: Done  16 out of  16 | elapsed:    0.0s finished\n",
      "[Parallel(n_jobs=1)]: Using backend SequentialBackend with 1 concurrent workers.\n",
      "[Parallel(n_jobs=1)]: Done  16 out of  16 | elapsed:    0.0s finished\n",
      "[Parallel(n_jobs=1)]: Using backend SequentialBackend with 1 concurrent workers.\n"
     ]
    },
    {
     "name": "stdout",
     "output_type": "stream",
     "text": [
      "Fitting 2 folds for each of 8 candidates, totalling 16 fits\n",
      "Fitting 2 folds for each of 8 candidates, totalling 16 fits\n",
      "LinearSVR | nested RMSE -3.108811385763297e-08 +/- 3.556531378774109e-08\n",
      "starting repetition 2 with seed 1\n",
      "optimizing and evalutaing ElasticNet\n",
      "Fitting 2 folds for each of 18 candidates, totalling 36 fits\n"
     ]
    },
    {
     "name": "stderr",
     "output_type": "stream",
     "text": [
      "[Parallel(n_jobs=1)]: Done  16 out of  16 | elapsed:    0.0s finished\n",
      "[Parallel(n_jobs=1)]: Using backend SequentialBackend with 1 concurrent workers.\n",
      "C:\\Users\\JohnDoe\\Anaconda3\\lib\\site-packages\\sklearn\\linear_model\\coordinate_descent.py:475: ConvergenceWarning: Objective did not converge. You might want to increase the number of iterations. Duality gap: 13476.595992392884, tolerance: 13.100806209281199\n",
      "  positive)\n",
      "C:\\Users\\JohnDoe\\Anaconda3\\lib\\site-packages\\sklearn\\linear_model\\coordinate_descent.py:475: ConvergenceWarning: Objective did not converge. You might want to increase the number of iterations. Duality gap: 27201.22475551464, tolerance: 29.371378548585973\n",
      "  positive)\n",
      "C:\\Users\\JohnDoe\\Anaconda3\\lib\\site-packages\\sklearn\\linear_model\\coordinate_descent.py:475: ConvergenceWarning: Objective did not converge. You might want to increase the number of iterations. Duality gap: 22054.78844688741, tolerance: 13.100806209281199\n",
      "  positive)\n",
      "C:\\Users\\JohnDoe\\Anaconda3\\lib\\site-packages\\sklearn\\linear_model\\coordinate_descent.py:475: ConvergenceWarning: Objective did not converge. You might want to increase the number of iterations. Duality gap: 45390.54433980631, tolerance: 29.371378548585973\n",
      "  positive)\n",
      "C:\\Users\\JohnDoe\\Anaconda3\\lib\\site-packages\\sklearn\\linear_model\\coordinate_descent.py:475: ConvergenceWarning: Objective did not converge. You might want to increase the number of iterations. Duality gap: 32591.295365361402, tolerance: 13.100806209281199\n",
      "  positive)\n",
      "C:\\Users\\JohnDoe\\Anaconda3\\lib\\site-packages\\sklearn\\linear_model\\coordinate_descent.py:475: ConvergenceWarning: Objective did not converge. You might want to increase the number of iterations. Duality gap: 68653.966419945, tolerance: 29.371378548585973\n",
      "  positive)\n",
      "C:\\Users\\JohnDoe\\Anaconda3\\lib\\site-packages\\sklearn\\linear_model\\coordinate_descent.py:475: ConvergenceWarning: Objective did not converge. You might want to increase the number of iterations. Duality gap: 43165.3618282644, tolerance: 13.100806209281199\n",
      "  positive)\n",
      "C:\\Users\\JohnDoe\\Anaconda3\\lib\\site-packages\\sklearn\\linear_model\\coordinate_descent.py:475: ConvergenceWarning: Objective did not converge. You might want to increase the number of iterations. Duality gap: 92943.84966705932, tolerance: 29.371378548585973\n",
      "  positive)\n",
      "C:\\Users\\JohnDoe\\Anaconda3\\lib\\site-packages\\sklearn\\linear_model\\coordinate_descent.py:475: ConvergenceWarning: Objective did not converge. You might want to increase the number of iterations. Duality gap: 51826.462988187835, tolerance: 13.100806209281199\n",
      "  positive)\n",
      "C:\\Users\\JohnDoe\\Anaconda3\\lib\\site-packages\\sklearn\\linear_model\\coordinate_descent.py:475: ConvergenceWarning: Objective did not converge. You might want to increase the number of iterations. Duality gap: 113463.89366470091, tolerance: 29.371378548585973\n",
      "  positive)\n",
      "C:\\Users\\JohnDoe\\Anaconda3\\lib\\site-packages\\sklearn\\linear_model\\coordinate_descent.py:475: ConvergenceWarning: Objective did not converge. You might want to increase the number of iterations. Duality gap: 57778.112186274986, tolerance: 13.100806209281199\n",
      "  positive)\n",
      "C:\\Users\\JohnDoe\\Anaconda3\\lib\\site-packages\\sklearn\\linear_model\\coordinate_descent.py:475: ConvergenceWarning: Objective did not converge. You might want to increase the number of iterations. Duality gap: 127854.89809603411, tolerance: 29.371378548585973\n",
      "  positive)\n",
      "[Parallel(n_jobs=1)]: Done  36 out of  36 | elapsed:    0.1s finished\n",
      "[Parallel(n_jobs=1)]: Using backend SequentialBackend with 1 concurrent workers.\n",
      "C:\\Users\\JohnDoe\\Anaconda3\\lib\\site-packages\\sklearn\\linear_model\\coordinate_descent.py:475: ConvergenceWarning: Objective did not converge. You might want to increase the number of iterations. Duality gap: 11745.717659336337, tolerance: 14.082704120246575\n",
      "  positive)\n",
      "C:\\Users\\JohnDoe\\Anaconda3\\lib\\site-packages\\sklearn\\linear_model\\coordinate_descent.py:475: ConvergenceWarning: Objective did not converge. You might want to increase the number of iterations. Duality gap: 22996.27001978326, tolerance: 23.471934530682987\n",
      "  positive)\n",
      "C:\\Users\\JohnDoe\\Anaconda3\\lib\\site-packages\\sklearn\\linear_model\\coordinate_descent.py:475: ConvergenceWarning: Objective did not converge. You might want to increase the number of iterations. Duality gap: 19500.572973394235, tolerance: 14.082704120246575\n",
      "  positive)\n",
      "C:\\Users\\JohnDoe\\Anaconda3\\lib\\site-packages\\sklearn\\linear_model\\coordinate_descent.py:475: ConvergenceWarning: Objective did not converge. You might want to increase the number of iterations. Duality gap: 38157.31969259314, tolerance: 23.471934530682987\n",
      "  positive)\n",
      "C:\\Users\\JohnDoe\\Anaconda3\\lib\\site-packages\\sklearn\\linear_model\\coordinate_descent.py:475: ConvergenceWarning: Objective did not converge. You might want to increase the number of iterations. Duality gap: 29830.5615629467, tolerance: 14.082704120246575\n",
      "  positive)\n",
      "C:\\Users\\JohnDoe\\Anaconda3\\lib\\site-packages\\sklearn\\linear_model\\coordinate_descent.py:475: ConvergenceWarning: Objective did not converge. You might want to increase the number of iterations. Duality gap: 57178.84198817531, tolerance: 23.471934530682987\n",
      "  positive)\n",
      "C:\\Users\\JohnDoe\\Anaconda3\\lib\\site-packages\\sklearn\\linear_model\\coordinate_descent.py:475: ConvergenceWarning: Objective did not converge. You might want to increase the number of iterations. Duality gap: 41362.731961844824, tolerance: 14.082704120246575\n",
      "  positive)\n",
      "C:\\Users\\JohnDoe\\Anaconda3\\lib\\site-packages\\sklearn\\linear_model\\coordinate_descent.py:475: ConvergenceWarning: Objective did not converge. You might want to increase the number of iterations. Duality gap: 76529.73696083514, tolerance: 23.471934530682987\n",
      "  positive)\n",
      "C:\\Users\\JohnDoe\\Anaconda3\\lib\\site-packages\\sklearn\\linear_model\\coordinate_descent.py:475: ConvergenceWarning: Objective did not converge. You might want to increase the number of iterations. Duality gap: 51820.81756982081, tolerance: 14.082704120246575\n",
      "  positive)\n",
      "C:\\Users\\JohnDoe\\Anaconda3\\lib\\site-packages\\sklearn\\linear_model\\coordinate_descent.py:475: ConvergenceWarning: Objective did not converge. You might want to increase the number of iterations. Duality gap: 92432.46391805586, tolerance: 23.471934530682987\n",
      "  positive)\n",
      "C:\\Users\\JohnDoe\\Anaconda3\\lib\\site-packages\\sklearn\\linear_model\\coordinate_descent.py:475: ConvergenceWarning: Objective did not converge. You might want to increase the number of iterations. Duality gap: 59585.36690474712, tolerance: 14.082704120246575\n",
      "  positive)\n",
      "C:\\Users\\JohnDoe\\Anaconda3\\lib\\site-packages\\sklearn\\linear_model\\coordinate_descent.py:475: ConvergenceWarning: Objective did not converge. You might want to increase the number of iterations. Duality gap: 103325.39735432337, tolerance: 23.471934530682987\n",
      "  positive)\n"
     ]
    },
    {
     "name": "stdout",
     "output_type": "stream",
     "text": [
      "Fitting 2 folds for each of 18 candidates, totalling 36 fits\n",
      "Fitting 2 folds for each of 18 candidates, totalling 36 fits\n"
     ]
    },
    {
     "name": "stderr",
     "output_type": "stream",
     "text": [
      "[Parallel(n_jobs=1)]: Done  36 out of  36 | elapsed:    0.1s finished\n",
      "[Parallel(n_jobs=1)]: Using backend SequentialBackend with 1 concurrent workers.\n",
      "C:\\Users\\JohnDoe\\Anaconda3\\lib\\site-packages\\sklearn\\linear_model\\coordinate_descent.py:475: ConvergenceWarning: Objective did not converge. You might want to increase the number of iterations. Duality gap: 15290.03871104246, tolerance: 17.037325038068595\n",
      "  positive)\n",
      "C:\\Users\\JohnDoe\\Anaconda3\\lib\\site-packages\\sklearn\\linear_model\\coordinate_descent.py:475: ConvergenceWarning: Objective did not converge. You might want to increase the number of iterations. Duality gap: 19531.917048252475, tolerance: 20.767564686139757\n",
      "  positive)\n",
      "C:\\Users\\JohnDoe\\Anaconda3\\lib\\site-packages\\sklearn\\linear_model\\coordinate_descent.py:475: ConvergenceWarning: Objective did not converge. You might want to increase the number of iterations. Duality gap: 25436.05779248185, tolerance: 17.037325038068595\n",
      "  positive)\n",
      "C:\\Users\\JohnDoe\\Anaconda3\\lib\\site-packages\\sklearn\\linear_model\\coordinate_descent.py:475: ConvergenceWarning: Objective did not converge. You might want to increase the number of iterations. Duality gap: 32126.62075707827, tolerance: 20.767564686139757\n",
      "  positive)\n",
      "C:\\Users\\JohnDoe\\Anaconda3\\lib\\site-packages\\sklearn\\linear_model\\coordinate_descent.py:475: ConvergenceWarning: Objective did not converge. You might want to increase the number of iterations. Duality gap: 38509.58113258546, tolerance: 17.037325038068595\n",
      "  positive)\n",
      "C:\\Users\\JohnDoe\\Anaconda3\\lib\\site-packages\\sklearn\\linear_model\\coordinate_descent.py:475: ConvergenceWarning: Objective did not converge. You might want to increase the number of iterations. Duality gap: 48045.21854483622, tolerance: 20.767564686139757\n",
      "  positive)\n",
      "C:\\Users\\JohnDoe\\Anaconda3\\lib\\site-packages\\sklearn\\linear_model\\coordinate_descent.py:475: ConvergenceWarning: Objective did not converge. You might want to increase the number of iterations. Duality gap: 52451.1882794862, tolerance: 17.037325038068595\n",
      "  positive)\n",
      "C:\\Users\\JohnDoe\\Anaconda3\\lib\\site-packages\\sklearn\\linear_model\\coordinate_descent.py:475: ConvergenceWarning: Objective did not converge. You might want to increase the number of iterations. Duality gap: 64768.75498782247, tolerance: 20.767564686139757\n",
      "  positive)\n",
      "C:\\Users\\JohnDoe\\Anaconda3\\lib\\site-packages\\sklearn\\linear_model\\coordinate_descent.py:475: ConvergenceWarning: Objective did not converge. You might want to increase the number of iterations. Duality gap: 64577.17744198628, tolerance: 17.037325038068595\n",
      "  positive)\n",
      "C:\\Users\\JohnDoe\\Anaconda3\\lib\\site-packages\\sklearn\\linear_model\\coordinate_descent.py:475: ConvergenceWarning: Objective did not converge. You might want to increase the number of iterations. Duality gap: 79217.52658230715, tolerance: 20.767564686139757\n",
      "  positive)\n",
      "C:\\Users\\JohnDoe\\Anaconda3\\lib\\site-packages\\sklearn\\linear_model\\coordinate_descent.py:475: ConvergenceWarning: Objective did not converge. You might want to increase the number of iterations. Duality gap: 73315.3078140911, tolerance: 17.037325038068595\n",
      "  positive)\n",
      "C:\\Users\\JohnDoe\\Anaconda3\\lib\\site-packages\\sklearn\\linear_model\\coordinate_descent.py:475: ConvergenceWarning: Objective did not converge. You might want to increase the number of iterations. Duality gap: 89629.09022537168, tolerance: 20.767564686139757\n",
      "  positive)\n",
      "[Parallel(n_jobs=1)]: Done  36 out of  36 | elapsed:    0.1s finished\n",
      "[Parallel(n_jobs=1)]: Using backend SequentialBackend with 1 concurrent workers.\n"
     ]
    },
    {
     "name": "stdout",
     "output_type": "stream",
     "text": [
      "Fitting 2 folds for each of 18 candidates, totalling 36 fits\n"
     ]
    },
    {
     "name": "stderr",
     "output_type": "stream",
     "text": [
      "C:\\Users\\JohnDoe\\Anaconda3\\lib\\site-packages\\sklearn\\linear_model\\coordinate_descent.py:475: ConvergenceWarning: Objective did not converge. You might want to increase the number of iterations. Duality gap: 13874.205625489127, tolerance: 14.984468950924919\n",
      "  positive)\n",
      "C:\\Users\\JohnDoe\\Anaconda3\\lib\\site-packages\\sklearn\\linear_model\\coordinate_descent.py:475: ConvergenceWarning: Objective did not converge. You might want to increase the number of iterations. Duality gap: 17079.981743200402, tolerance: 17.70272031054237\n",
      "  positive)\n",
      "C:\\Users\\JohnDoe\\Anaconda3\\lib\\site-packages\\sklearn\\linear_model\\coordinate_descent.py:475: ConvergenceWarning: Objective did not converge. You might want to increase the number of iterations. Duality gap: 23140.17863216805, tolerance: 14.984468950924919\n",
      "  positive)\n",
      "C:\\Users\\JohnDoe\\Anaconda3\\lib\\site-packages\\sklearn\\linear_model\\coordinate_descent.py:475: ConvergenceWarning: Objective did not converge. You might want to increase the number of iterations. Duality gap: 28183.70034636848, tolerance: 17.70272031054237\n",
      "  positive)\n",
      "C:\\Users\\JohnDoe\\Anaconda3\\lib\\site-packages\\sklearn\\linear_model\\coordinate_descent.py:475: ConvergenceWarning: Objective did not converge. You might want to increase the number of iterations. Duality gap: 34971.34284226953, tolerance: 14.984468950924919\n",
      "  positive)\n",
      "C:\\Users\\JohnDoe\\Anaconda3\\lib\\site-packages\\sklearn\\linear_model\\coordinate_descent.py:475: ConvergenceWarning: Objective did not converge. You might want to increase the number of iterations. Duality gap: 42182.501566600935, tolerance: 17.70272031054237\n",
      "  positive)\n",
      "C:\\Users\\JohnDoe\\Anaconda3\\lib\\site-packages\\sklearn\\linear_model\\coordinate_descent.py:475: ConvergenceWarning: Objective did not converge. You might want to increase the number of iterations. Duality gap: 47311.4161187614, tolerance: 14.984468950924919\n",
      "  positive)\n",
      "C:\\Users\\JohnDoe\\Anaconda3\\lib\\site-packages\\sklearn\\linear_model\\coordinate_descent.py:475: ConvergenceWarning: Objective did not converge. You might want to increase the number of iterations. Duality gap: 56662.17046521659, tolerance: 17.70272031054237\n",
      "  positive)\n",
      "C:\\Users\\JohnDoe\\Anaconda3\\lib\\site-packages\\sklearn\\linear_model\\coordinate_descent.py:475: ConvergenceWarning: Objective did not converge. You might want to increase the number of iterations. Duality gap: 57755.22304514286, tolerance: 14.984468950924919\n",
      "  positive)\n",
      "C:\\Users\\JohnDoe\\Anaconda3\\lib\\site-packages\\sklearn\\linear_model\\coordinate_descent.py:475: ConvergenceWarning: Objective did not converge. You might want to increase the number of iterations. Duality gap: 68828.09771201378, tolerance: 17.70272031054237\n",
      "  positive)\n",
      "C:\\Users\\JohnDoe\\Anaconda3\\lib\\site-packages\\sklearn\\linear_model\\coordinate_descent.py:475: ConvergenceWarning: Objective did not converge. You might want to increase the number of iterations. Duality gap: 65115.23167111468, tolerance: 14.984468950924919\n",
      "  positive)\n",
      "C:\\Users\\JohnDoe\\Anaconda3\\lib\\site-packages\\sklearn\\linear_model\\coordinate_descent.py:475: ConvergenceWarning: Objective did not converge. You might want to increase the number of iterations. Duality gap: 77329.982027412, tolerance: 17.70272031054237\n",
      "  positive)\n",
      "[Parallel(n_jobs=1)]: Done  36 out of  36 | elapsed:    0.1s finished\n",
      "[Parallel(n_jobs=1)]: Using backend SequentialBackend with 1 concurrent workers.\n",
      "C:\\Users\\JohnDoe\\Anaconda3\\lib\\site-packages\\sklearn\\linear_model\\coordinate_descent.py:475: ConvergenceWarning: Objective did not converge. You might want to increase the number of iterations. Duality gap: 14470.65780009585, tolerance: 17.245521654969977\n",
      "  positive)\n",
      "C:\\Users\\JohnDoe\\Anaconda3\\lib\\site-packages\\sklearn\\linear_model\\coordinate_descent.py:475: ConvergenceWarning: Objective did not converge. You might want to increase the number of iterations. Duality gap: 20483.931097528446, tolerance: 22.091770396885504\n",
      "  positive)\n",
      "C:\\Users\\JohnDoe\\Anaconda3\\lib\\site-packages\\sklearn\\linear_model\\coordinate_descent.py:475: ConvergenceWarning: Objective did not converge. You might want to increase the number of iterations. Duality gap: 24220.30242510177, tolerance: 17.245521654969977\n",
      "  positive)\n",
      "C:\\Users\\JohnDoe\\Anaconda3\\lib\\site-packages\\sklearn\\linear_model\\coordinate_descent.py:475: ConvergenceWarning: Objective did not converge. You might want to increase the number of iterations. Duality gap: 33573.70297446001, tolerance: 22.091770396885504\n",
      "  positive)\n",
      "C:\\Users\\JohnDoe\\Anaconda3\\lib\\site-packages\\sklearn\\linear_model\\coordinate_descent.py:475: ConvergenceWarning: Objective did not converge. You might want to increase the number of iterations. Duality gap: 37102.16192725286, tolerance: 17.245521654969977\n",
      "  positive)\n",
      "C:\\Users\\JohnDoe\\Anaconda3\\lib\\site-packages\\sklearn\\linear_model\\coordinate_descent.py:475: ConvergenceWarning: Objective did not converge. You might want to increase the number of iterations. Duality gap: 50299.91535223544, tolerance: 22.091770396885504\n",
      "  positive)\n",
      "C:\\Users\\JohnDoe\\Anaconda3\\lib\\site-packages\\sklearn\\linear_model\\coordinate_descent.py:475: ConvergenceWarning: Objective did not converge. You might want to increase the number of iterations. Duality gap: 51276.92523722313, tolerance: 17.245521654969977\n",
      "  positive)\n",
      "C:\\Users\\JohnDoe\\Anaconda3\\lib\\site-packages\\sklearn\\linear_model\\coordinate_descent.py:475: ConvergenceWarning: Objective did not converge. You might want to increase the number of iterations. Duality gap: 68153.16965807902, tolerance: 22.091770396885504\n",
      "  positive)\n",
      "C:\\Users\\JohnDoe\\Anaconda3\\lib\\site-packages\\sklearn\\linear_model\\coordinate_descent.py:475: ConvergenceWarning: Objective did not converge. You might want to increase the number of iterations. Duality gap: 63966.72812801928, tolerance: 17.245521654969977\n",
      "  positive)\n",
      "C:\\Users\\JohnDoe\\Anaconda3\\lib\\site-packages\\sklearn\\linear_model\\coordinate_descent.py:475: ConvergenceWarning: Objective did not converge. You might want to increase the number of iterations. Duality gap: 83755.18376666846, tolerance: 22.091770396885504\n",
      "  positive)\n",
      "C:\\Users\\JohnDoe\\Anaconda3\\lib\\site-packages\\sklearn\\linear_model\\coordinate_descent.py:475: ConvergenceWarning: Objective did not converge. You might want to increase the number of iterations. Duality gap: 73305.10310296208, tolerance: 17.245521654969977\n",
      "  positive)\n"
     ]
    },
    {
     "name": "stdout",
     "output_type": "stream",
     "text": [
      "Fitting 2 folds for each of 18 candidates, totalling 36 fits\n"
     ]
    },
    {
     "name": "stderr",
     "output_type": "stream",
     "text": [
      "C:\\Users\\JohnDoe\\Anaconda3\\lib\\site-packages\\sklearn\\linear_model\\coordinate_descent.py:475: ConvergenceWarning: Objective did not converge. You might want to increase the number of iterations. Duality gap: 95048.64480494647, tolerance: 22.091770396885504\n",
      "  positive)\n",
      "[Parallel(n_jobs=1)]: Done  36 out of  36 | elapsed:    0.1s finished\n",
      "[Parallel(n_jobs=1)]: Using backend SequentialBackend with 1 concurrent workers.\n",
      "[Parallel(n_jobs=1)]: Done  16 out of  16 | elapsed:    0.0s finished\n",
      "[Parallel(n_jobs=1)]: Using backend SequentialBackend with 1 concurrent workers.\n",
      "[Parallel(n_jobs=1)]: Done  16 out of  16 | elapsed:    0.0s finished\n",
      "[Parallel(n_jobs=1)]: Using backend SequentialBackend with 1 concurrent workers.\n"
     ]
    },
    {
     "name": "stdout",
     "output_type": "stream",
     "text": [
      "ElasticNet | nested RMSE -19.791551096905316 +/- 2.3265229072133344\n",
      "optimizing and evalutaing LinearSVR\n",
      "Fitting 2 folds for each of 8 candidates, totalling 16 fits\n",
      "Fitting 2 folds for each of 8 candidates, totalling 16 fits\n",
      "Fitting 2 folds for each of 8 candidates, totalling 16 fits\n",
      "Fitting 2 folds for each of 8 candidates, totalling 16 fits\n",
      "Fitting 2 folds for each of 8 candidates, totalling 16 fits\n",
      "LinearSVR | nested RMSE -3.6554872724119323e-09 +/- 5.65025572759494e-09\n"
     ]
    },
    {
     "name": "stderr",
     "output_type": "stream",
     "text": [
      "[Parallel(n_jobs=1)]: Done  16 out of  16 | elapsed:    0.0s finished\n",
      "[Parallel(n_jobs=1)]: Using backend SequentialBackend with 1 concurrent workers.\n",
      "[Parallel(n_jobs=1)]: Done  16 out of  16 | elapsed:    0.0s finished\n",
      "[Parallel(n_jobs=1)]: Using backend SequentialBackend with 1 concurrent workers.\n",
      "[Parallel(n_jobs=1)]: Done  16 out of  16 | elapsed:    0.0s finished\n"
     ]
    }
   ],
   "source": [
    "repetitions = 2\n",
    "repetition_seeds = range(repetitions)\n",
    "kfolds_outer = 5\n",
    "\n",
    "comparisons = [[\"ElasticNet\", \"Dummy\"],\n",
    "               [\"LinearSVR\", \"Dummy\"],\n",
    "               [\"ElasticNet\", \"LinearSVR\"]]\n",
    "               \n",
    "results_all_comparisons = []\n",
    "\n",
    "for c in comparisons:\n",
    "    \n",
    "    print(f\"running comparison of {c[0]} and {c[1]}\")\n",
    "               \n",
    "    # select the relevant subset from gridcsv\n",
    "    gridcvs_c = {key: value for key, value in gridcvs.items() if key in c}\n",
    "    \n",
    "    # pre-allocate data container for saving results of the current comparison\n",
    "    results_c = {}\n",
    "    for i in range(len(c)):\n",
    "        results_c[c[i]] = np.zeros((repetitions, kfolds_outer))\n",
    "    \n",
    "    for j in repetition_seeds:\n",
    "               \n",
    "        print(f\"starting repetition {j + 1} with seed {j}\")\n",
    "\n",
    "        # set up outer cv of nested for parameter (i.e., model) evaluation; ensure that for\n",
    "        # all comparisons, the randomization of folds is identical\n",
    "        outer_nestedcv = KFold(n_splits=kfolds_outer, shuffle=True, random_state=j)\n",
    "\n",
    "        # per model, optimize the parameters using the inner_nestedcv (run internally\n",
    "        # in cross_val_score) and evaluate the performance of the best parameter setting\n",
    "        # on the outer_nestedcv (also run internally in cross_val_score)\n",
    "        for name, gs_est in sorted(gridcvs_c.items()):\n",
    "               \n",
    "            print(f\"optimizing and evalutaing {name}\")\n",
    "               \n",
    "            # gs_est returns an estimator that uses the optimized parameters to\n",
    "            # predict the labels on the test folds of outer_nestedcv\n",
    "            cv_score = cross_val_score(gs_est,\n",
    "                                       X=X,\n",
    "                                       y=y,\n",
    "                                       cv=outer_nestedcv,\n",
    "                                       n_jobs=1)\n",
    "            print(f\"{name} | nested RMSE {cv_score.mean() * 100} +/- {cv_score.std() * 100}\") \n",
    "            # save the scores of all iterations i of the outer_nestedcv\n",
    "            results_c[name][j, :] = cv_score\n",
    "    \n",
    "    # save the results of the current comparison\n",
    "    results_all_comparisons.append(results_c)"
   ]
  },
  {
   "cell_type": "code",
   "execution_count": 4,
   "metadata": {},
   "outputs": [],
   "source": [
    "from scipy.stats import t\n",
    "from math import sqrt\n",
    "from statistics import stdev\n",
    "\n",
    "def corrected_dependent_ttest(data1, data2, n_training_folds, n_test_folds, alpha):\n",
    "    n = len(data1)\n",
    "    differences = [abs(data1[i]-data2[i]) for i in range(n)]\n",
    "    sd = stdev(differences)\n",
    "    divisor = 1 / n * sum(differences)\n",
    "    test_training_ratio = n_test_folds / n_training_folds  \n",
    "    denominator = sqrt(1 / n + test_training_ratio) * sd\n",
    "    t_stat = divisor / denominator\n",
    "    # degrees of freedom\n",
    "    df = n - 1\n",
    "    # calculate the critical value\n",
    "    cv = t.ppf(1.0 - alpha, df)\n",
    "    # calculate the p-value\n",
    "    p = (1.0 - t.cdf(abs(t_stat), df)) * 2.0\n",
    "    # return everything\n",
    "    return t_stat, df, cv, p"
   ]
  },
  {
   "cell_type": "code",
   "execution_count": 5,
   "metadata": {},
   "outputs": [
    {
     "name": "stdout",
     "output_type": "stream",
     "text": [
      "the comparison of ElasticNet and Dummy resulted in t = 5.5703920632572075, p = 0.00034720650074504533, with a critical value of 2.5095870571050907 and 9 degrees of freedom\n",
      "the comparison of LinearSVR and Dummy resulted in t = 5.570583612426464, p = 0.00034712110278323216, with a critical value of 2.5095870571050907 and 9 degrees of freedom\n",
      "the comparison of ElasticNet and LinearSVR resulted in t = 6.927291159199279, p = 6.85538101048433e-05, with a critical value of 2.5095870571050907 and 9 degrees of freedom\n"
     ]
    }
   ],
   "source": [
    "# test all comparisons for significance\n",
    "for result in results_all_comparisons:\n",
    "    # combine the RMSEs of all folds in one vector of lengts r * k\n",
    "    for key, value in result.items():\n",
    "        #print(key, value)\n",
    "        result[key] = np.ravel(value)\n",
    "       \n",
    "    models = list(result.keys())\n",
    "    scores = list(result.values())\n",
    "    \n",
    "    nperfold = n_samples // kfolds_outer\n",
    "    ntraininginstances = nperfold * (kfolds_outer - 1)\n",
    "    ntestinstances = nperfold\n",
    "    alpha = 0.05 / len(comparisons)\n",
    "    \n",
    "    t_stat, df, cv, p = corrected_dependent_ttest(scores[0],\n",
    "                                                  scores[1],\n",
    "                                                  ntraininginstances,\n",
    "                                                  ntestinstances,\n",
    "                                                  alpha)\n",
    "    print(f\"the comparison of {models[0]} and {models[1]} resulted in t = {t_stat}, p = {p}, with a critical value of {cv} and {df} degrees of freedom\")\n",
    "        "
   ]
  },
  {
   "cell_type": "code",
   "execution_count": 6,
   "metadata": {},
   "outputs": [
    {
     "name": "stdout",
     "output_type": "stream",
     "text": [
      "repetition 1 with seed 0\n",
      "[ 0  1  3  4  5  6  7  8  9 12 14 15 16 18 19 20 21 23 25 29] [ 2 10 11 13 17 22 24 26 27 28]\n",
      "[ 0  2  3  7  9 10 11 12 13 15 17 18 19 21 22 24 25 26 27 28] [ 1  4  5  6  8 14 16 20 23 29]\n",
      "[ 1  2  4  5  6  8 10 11 13 14 16 17 20 22 23 24 26 27 28 29] [ 0  3  7  9 12 15 18 19 21 25]\n",
      "repetition 2 with seed 1\n",
      "[ 0  1  2  4  5  6  7  8  9 11 12 13 15 16 18 23 25 27 28 29] [ 3 10 14 17 19 20 21 22 24 26]\n",
      "[ 0  3  5  8  9 10 11 12 14 15 16 17 19 20 21 22 24 26 28 29] [ 1  2  4  6  7 13 18 23 25 27]\n",
      "[ 1  2  3  4  6  7 10 13 14 17 18 19 20 21 22 23 24 25 26 27] [ 0  5  8  9 11 12 15 16 28 29]\n",
      "repetition 3 with seed 2\n",
      "[ 2  4  5  7  8 10 11 12 13 15 16 17 18 22 24 25 26 27 28 29] [ 0  1  3  6  9 14 19 20 21 23]\n",
      "[ 0  1  3  6  7  8  9 11 13 14 15 18 19 20 21 22 23 24 26 29] [ 2  4  5 10 12 16 17 25 27 28]\n",
      "[ 0  1  2  3  4  5  6  9 10 12 14 16 17 19 20 21 23 25 27 28] [ 7  8 11 13 15 18 22 24 26 29]\n"
     ]
    }
   ],
   "source": [
    "################################################\n",
    "# self-contained, minimal, reproducible examples\n",
    "################################################\n",
    "\n",
    "# repeated k-fold\n",
    "\n",
    "X, y = make_regression(n_samples=30, n_features=2)\n",
    "\n",
    "repetitions = 3\n",
    "repetition_seeds = range(repetitions)\n",
    "\n",
    "for j in repetition_seeds:\n",
    "    \n",
    "    cv = KFold(n_splits=3, random_state=j, shuffle=True)\n",
    "    \n",
    "    print(f\"repetition {j + 1} with seed {j}\")\n",
    "    \n",
    "    for trainidx, testidx in cv.split(X):\n",
    "        print(trainidx, testidx)"
   ]
  }
 ],
 "metadata": {
  "kernelspec": {
   "display_name": "Python 3",
   "language": "python",
   "name": "python3"
  },
  "language_info": {
   "codemirror_mode": {
    "name": "ipython",
    "version": 3
   },
   "file_extension": ".py",
   "mimetype": "text/x-python",
   "name": "python",
   "nbconvert_exporter": "python",
   "pygments_lexer": "ipython3",
   "version": "3.7.3"
  }
 },
 "nbformat": 4,
 "nbformat_minor": 2
}
